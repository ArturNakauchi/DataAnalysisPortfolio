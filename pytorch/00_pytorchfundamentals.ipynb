{
  "nbformat": 4,
  "nbformat_minor": 0,
  "metadata": {
    "colab": {
      "provenance": [],
      "collapsed_sections": [
        "FMpzSlFmqWcM",
        "l6C0W8BtwwYu",
        "Aq2vG2Gk29YE",
        "k2tdamLU4K_G",
        "uF7zO4W47FAM",
        "36Hc0EGDCGpS",
        "u8-0LwjhDwPd",
        "3nAnWkNMHKnR",
        "_8kYRF21R8ZT"
      ],
      "gpuType": "T4",
      "authorship_tag": "ABX9TyPd5ZYv7SN/cCv+A527b+nO",
      "include_colab_link": true
    },
    "kernelspec": {
      "name": "python3",
      "display_name": "Python 3"
    },
    "language_info": {
      "name": "python"
    },
    "accelerator": "GPU"
  },
  "cells": [
    {
      "cell_type": "markdown",
      "metadata": {
        "id": "view-in-github",
        "colab_type": "text"
      },
      "source": [
        "<a href=\"https://colab.research.google.com/github/ArturNakauchi/DataAnalysisPortfolio/blob/main/00_pytorchfundamentals.ipynb\" target=\"_parent\"><img src=\"https://colab.research.google.com/assets/colab-badge.svg\" alt=\"Open In Colab\"/></a>"
      ]
    },
    {
      "cell_type": "markdown",
      "source": [
        "# 00.PyTorch Fundamentals\n",
        "\n",
        "Resource notebook: https://www.learnpytorch.io/00_pytorch_fundamentals/\n",
        "\n",
        "DBourke Github: https://github.com/mrdbourke/pytorch-deep-learning\n",
        "\n"
      ],
      "metadata": {
        "id": "dTAa65Fapod9"
      }
    },
    {
      "cell_type": "markdown",
      "source": [
        "##Importing and Checking Version"
      ],
      "metadata": {
        "id": "unuEbFHx67dD"
      }
    },
    {
      "cell_type": "code",
      "source": [
        "!nvidia-smi"
      ],
      "metadata": {
        "colab": {
          "base_uri": "https://localhost:8080/"
        },
        "id": "KXE8TQfNnF6b",
        "outputId": "68449cad-f96b-4d5a-e7f2-f72802c93515"
      },
      "execution_count": 1,
      "outputs": [
        {
          "output_type": "stream",
          "name": "stdout",
          "text": [
            "Tue Apr 16 06:23:29 2024       \n",
            "+---------------------------------------------------------------------------------------+\n",
            "| NVIDIA-SMI 535.104.05             Driver Version: 535.104.05   CUDA Version: 12.2     |\n",
            "|-----------------------------------------+----------------------+----------------------+\n",
            "| GPU  Name                 Persistence-M | Bus-Id        Disp.A | Volatile Uncorr. ECC |\n",
            "| Fan  Temp   Perf          Pwr:Usage/Cap |         Memory-Usage | GPU-Util  Compute M. |\n",
            "|                                         |                      |               MIG M. |\n",
            "|=========================================+======================+======================|\n",
            "|   0  Tesla T4                       Off | 00000000:00:04.0 Off |                    0 |\n",
            "| N/A   66C    P8              11W /  70W |      0MiB / 15360MiB |      0%      Default |\n",
            "|                                         |                      |                  N/A |\n",
            "+-----------------------------------------+----------------------+----------------------+\n",
            "                                                                                         \n",
            "+---------------------------------------------------------------------------------------+\n",
            "| Processes:                                                                            |\n",
            "|  GPU   GI   CI        PID   Type   Process name                            GPU Memory |\n",
            "|        ID   ID                                                             Usage      |\n",
            "|=======================================================================================|\n",
            "|  No running processes found                                                           |\n",
            "+---------------------------------------------------------------------------------------+\n"
          ]
        }
      ]
    },
    {
      "cell_type": "code",
      "source": [
        "import torch\n",
        "import pandas as pd\n",
        "import numpy as np\n",
        "import matplotlib.pyplot as plt\n",
        "print(torch.__version__)"
      ],
      "metadata": {
        "colab": {
          "base_uri": "https://localhost:8080/"
        },
        "id": "BkDu7K5qnv4W",
        "outputId": "7d0ceab9-861b-49cf-b8f1-31d4a0dc39b3"
      },
      "execution_count": 2,
      "outputs": [
        {
          "output_type": "stream",
          "name": "stdout",
          "text": [
            "2.2.1+cu121\n"
          ]
        }
      ]
    },
    {
      "cell_type": "markdown",
      "source": [
        "##Introduction to Tensors\n",
        "\n",
        "torch.Tensor — PyTorch 2.2 documentation: https://pytorch.org/docs/stable/tensors.html#torch-tensor"
      ],
      "metadata": {
        "id": "FMpzSlFmqWcM"
      }
    },
    {
      "cell_type": "code",
      "source": [
        "#scalar\n",
        "scalar = torch.tensor(7)\n",
        "scalar"
      ],
      "metadata": {
        "colab": {
          "base_uri": "https://localhost:8080/"
        },
        "id": "nqVF-YtspPYm",
        "outputId": "deeb2a50-e5f7-47fc-9a41-ecb125e3da2a"
      },
      "execution_count": 6,
      "outputs": [
        {
          "output_type": "execute_result",
          "data": {
            "text/plain": [
              "tensor(7)"
            ]
          },
          "metadata": {},
          "execution_count": 6
        }
      ]
    },
    {
      "cell_type": "code",
      "source": [
        "scalar.ndim"
      ],
      "metadata": {
        "colab": {
          "base_uri": "https://localhost:8080/"
        },
        "id": "cPRJrZexq9ra",
        "outputId": "0ebe967b-ef8b-4b0e-ba12-8669b3f6c44a"
      },
      "execution_count": 7,
      "outputs": [
        {
          "output_type": "execute_result",
          "data": {
            "text/plain": [
              "0"
            ]
          },
          "metadata": {},
          "execution_count": 7
        }
      ]
    },
    {
      "cell_type": "code",
      "source": [
        "# Get tensor back as Python int\n",
        "scalar.item()"
      ],
      "metadata": {
        "colab": {
          "base_uri": "https://localhost:8080/"
        },
        "id": "TyM_n8Shr2cu",
        "outputId": "780dfcd3-d1f8-446c-de8c-382f62aaa710"
      },
      "execution_count": 12,
      "outputs": [
        {
          "output_type": "execute_result",
          "data": {
            "text/plain": [
              "7"
            ]
          },
          "metadata": {},
          "execution_count": 12
        }
      ]
    },
    {
      "cell_type": "code",
      "source": [
        "# Vector\n",
        "vector = torch.tensor([7,7])\n",
        "vector"
      ],
      "metadata": {
        "colab": {
          "base_uri": "https://localhost:8080/"
        },
        "id": "5HCewM-_r6OU",
        "outputId": "31f761e3-a281-460b-b062-d5d7db563501"
      },
      "execution_count": 10,
      "outputs": [
        {
          "output_type": "execute_result",
          "data": {
            "text/plain": [
              "tensor([7, 7])"
            ]
          },
          "metadata": {},
          "execution_count": 10
        }
      ]
    },
    {
      "cell_type": "code",
      "source": [
        "vector.shape"
      ],
      "metadata": {
        "colab": {
          "base_uri": "https://localhost:8080/"
        },
        "id": "0mQDYm8UsEbV",
        "outputId": "1583a70e-93ae-40ea-ad2a-d63ac431fbbc"
      },
      "execution_count": 11,
      "outputs": [
        {
          "output_type": "execute_result",
          "data": {
            "text/plain": [
              "torch.Size([2])"
            ]
          },
          "metadata": {},
          "execution_count": 11
        }
      ]
    },
    {
      "cell_type": "code",
      "source": [
        "# MATRIX\n",
        "MATRIX = torch.tensor([[7,8],\n",
        "                      [9,10]])\n",
        "MATRIX"
      ],
      "metadata": {
        "colab": {
          "base_uri": "https://localhost:8080/"
        },
        "id": "hVUK-r0PsdpB",
        "outputId": "40e9fc4f-d00f-4fac-b902-fa92a774fc27"
      },
      "execution_count": 13,
      "outputs": [
        {
          "output_type": "execute_result",
          "data": {
            "text/plain": [
              "tensor([[ 7,  8],\n",
              "        [ 9, 10]])"
            ]
          },
          "metadata": {},
          "execution_count": 13
        }
      ]
    },
    {
      "cell_type": "code",
      "source": [
        "MATRIX.shape"
      ],
      "metadata": {
        "colab": {
          "base_uri": "https://localhost:8080/"
        },
        "id": "wnATn6jwst2L",
        "outputId": "de12b6b5-81c4-4900-80b7-7a6f70dd9ccd"
      },
      "execution_count": 15,
      "outputs": [
        {
          "output_type": "execute_result",
          "data": {
            "text/plain": [
              "torch.Size([2, 2])"
            ]
          },
          "metadata": {},
          "execution_count": 15
        }
      ]
    },
    {
      "cell_type": "code",
      "source": [
        "# TENSOR\n",
        "TENSOR = torch.tensor([[[1,2,3],\n",
        "                         [3,6,9],\n",
        "                         [2,4,5]]])"
      ],
      "metadata": {
        "id": "JTgz-532sxqe"
      },
      "execution_count": 17,
      "outputs": []
    },
    {
      "cell_type": "code",
      "source": [
        "TENSOR.ndim"
      ],
      "metadata": {
        "colab": {
          "base_uri": "https://localhost:8080/"
        },
        "id": "hOrFRW1EtvtU",
        "outputId": "de0f32e5-3125-4ee5-e0f0-fa7388353bd9"
      },
      "execution_count": 18,
      "outputs": [
        {
          "output_type": "execute_result",
          "data": {
            "text/plain": [
              "3"
            ]
          },
          "metadata": {},
          "execution_count": 18
        }
      ]
    },
    {
      "cell_type": "code",
      "source": [
        "TENSOR.shape"
      ],
      "metadata": {
        "colab": {
          "base_uri": "https://localhost:8080/"
        },
        "id": "XuWcQNNVuDdM",
        "outputId": "0c0eb45c-a4b1-45eb-8a75-ba6c0d5e4bc6"
      },
      "execution_count": 19,
      "outputs": [
        {
          "output_type": "execute_result",
          "data": {
            "text/plain": [
              "torch.Size([1, 3, 3])"
            ]
          },
          "metadata": {},
          "execution_count": 19
        }
      ]
    },
    {
      "cell_type": "code",
      "source": [
        "TENSOR[0]"
      ],
      "metadata": {
        "colab": {
          "base_uri": "https://localhost:8080/"
        },
        "id": "WABul8ElublI",
        "outputId": "be5b9630-80f3-4c5c-b39c-1aa4b27516bb"
      },
      "execution_count": 20,
      "outputs": [
        {
          "output_type": "execute_result",
          "data": {
            "text/plain": [
              "tensor([[1, 2, 3],\n",
              "        [3, 6, 9],\n",
              "        [2, 4, 5]])"
            ]
          },
          "metadata": {},
          "execution_count": 20
        }
      ]
    },
    {
      "cell_type": "markdown",
      "source": [
        "## Random Tensor\n",
        "\n",
        "Why Random tensors?\n",
        "\n",
        "Because neural networks start with Tensors with random numbrs and adjust these random numbers to represent the data.\n",
        "\n",
        "`Start with random Numbers -> look at data -> update random numbers -> look at data -> update random numbers`\n",
        "\n",
        "Torch Random Tensors: https://pytorch.org/docs/stable/generated/torch.rand.html#torch-rand\n"
      ],
      "metadata": {
        "id": "l6C0W8BtwwYu"
      }
    },
    {
      "cell_type": "code",
      "source": [
        "# Random tensor\n",
        "random_tensor = torch.rand(3,4)\n",
        "random_tensor"
      ],
      "metadata": {
        "colab": {
          "base_uri": "https://localhost:8080/"
        },
        "id": "vylU3OsUugVK",
        "outputId": "6360140c-55f1-4cfa-a3ea-675ef9963cef"
      },
      "execution_count": 25,
      "outputs": [
        {
          "output_type": "execute_result",
          "data": {
            "text/plain": [
              "tensor([[0.2230, 0.5554, 0.1253, 0.2768],\n",
              "        [0.3748, 0.5165, 0.1174, 0.4256],\n",
              "        [0.2258, 0.7744, 0.6538, 0.2403]])"
            ]
          },
          "metadata": {},
          "execution_count": 25
        }
      ]
    },
    {
      "cell_type": "code",
      "source": [
        "# Create a random tensor with similar shape to an image tensor\n",
        "random_image_size_tensor = torch.rand(size=(224,224,3)) #height, width, colour channels\n",
        "random_image_size_tensor.shape, random_image_size_tensor.ndim"
      ],
      "metadata": {
        "colab": {
          "base_uri": "https://localhost:8080/"
        },
        "id": "qxDawbcMw7c_",
        "outputId": "b8086703-6f5c-4b5d-d08a-82333cb1cc24"
      },
      "execution_count": 27,
      "outputs": [
        {
          "output_type": "execute_result",
          "data": {
            "text/plain": [
              "(torch.Size([224, 224, 3]), 3)"
            ]
          },
          "metadata": {},
          "execution_count": 27
        }
      ]
    },
    {
      "cell_type": "markdown",
      "source": [
        "##Zeroes and Ones"
      ],
      "metadata": {
        "id": "Aq2vG2Gk29YE"
      }
    },
    {
      "cell_type": "code",
      "source": [
        "zeros = torch.zeros(size=(3,4))\n",
        "zeros"
      ],
      "metadata": {
        "colab": {
          "base_uri": "https://localhost:8080/"
        },
        "id": "TU6wiMya1Oey",
        "outputId": "ae0915ec-989a-4846-a31c-4b5b6cf2f4dd"
      },
      "execution_count": 29,
      "outputs": [
        {
          "output_type": "execute_result",
          "data": {
            "text/plain": [
              "tensor([[0., 0., 0., 0.],\n",
              "        [0., 0., 0., 0.],\n",
              "        [0., 0., 0., 0.]])"
            ]
          },
          "metadata": {},
          "execution_count": 29
        }
      ]
    },
    {
      "cell_type": "code",
      "source": [
        "ones = torch.ones(size=(3,4))\n",
        "ones"
      ],
      "metadata": {
        "colab": {
          "base_uri": "https://localhost:8080/"
        },
        "id": "ffaUE4ht3I1s",
        "outputId": "0da0cf3d-9e33-45ea-d40a-4048d5002b53"
      },
      "execution_count": 32,
      "outputs": [
        {
          "output_type": "execute_result",
          "data": {
            "text/plain": [
              "tensor([[1., 1., 1., 1.],\n",
              "        [1., 1., 1., 1.],\n",
              "        [1., 1., 1., 1.]])"
            ]
          },
          "metadata": {},
          "execution_count": 32
        }
      ]
    },
    {
      "cell_type": "code",
      "source": [
        "ones.dtype"
      ],
      "metadata": {
        "colab": {
          "base_uri": "https://localhost:8080/"
        },
        "id": "15NbIaNL3bCi",
        "outputId": "81624024-56e2-429c-ce15-ff9997505b82"
      },
      "execution_count": 33,
      "outputs": [
        {
          "output_type": "execute_result",
          "data": {
            "text/plain": [
              "torch.float32"
            ]
          },
          "metadata": {},
          "execution_count": 33
        }
      ]
    },
    {
      "cell_type": "markdown",
      "source": [
        "## Creating a Range of Tensors and Tensors-like\n",
        "\n",
        "ARange documentation: https://pytorch.org/docs/stable/generated/torch.arange.html"
      ],
      "metadata": {
        "id": "k2tdamLU4K_G"
      }
    },
    {
      "cell_type": "code",
      "source": [
        "#Use torch.arange()\n",
        "one_to_ten = torch.arange(start=0, end=11, step=1)\n",
        "one_to_ten"
      ],
      "metadata": {
        "colab": {
          "base_uri": "https://localhost:8080/"
        },
        "id": "t7bQShSq3w3Q",
        "outputId": "6353e92c-8b9e-460e-eedf-b17c2781cf6a"
      },
      "execution_count": 41,
      "outputs": [
        {
          "output_type": "execute_result",
          "data": {
            "text/plain": [
              "tensor([ 0,  1,  2,  3,  4,  5,  6,  7,  8,  9, 10])"
            ]
          },
          "metadata": {},
          "execution_count": 41
        }
      ]
    },
    {
      "cell_type": "code",
      "source": [
        "#Creaing tensors like\n",
        "ten_zeros = torch.zeros_like(input=one_to_ten)\n",
        "ten_zeros"
      ],
      "metadata": {
        "colab": {
          "base_uri": "https://localhost:8080/"
        },
        "id": "rBnCHRo44Z6X",
        "outputId": "9a67f457-efbe-4728-bc44-ddaa99fd4cb4"
      },
      "execution_count": 43,
      "outputs": [
        {
          "output_type": "execute_result",
          "data": {
            "text/plain": [
              "tensor([0, 0, 0, 0, 0, 0, 0, 0, 0, 0, 0])"
            ]
          },
          "metadata": {},
          "execution_count": 43
        }
      ]
    },
    {
      "cell_type": "code",
      "source": [],
      "metadata": {
        "id": "YGkENj8L5gIG"
      },
      "execution_count": null,
      "outputs": []
    },
    {
      "cell_type": "markdown",
      "source": [
        "##Tensor Datatypes\n",
        "\n",
        "**Notes** Tensor datatype is one of the 3 main issues with PyTorch and Deep Learning\n",
        "1. Tensor not right datatype\n",
        "2. Tensor not right shape\n",
        "3. Tensor not on right device\n",
        "\n",
        "Precision in computing: https://en.wikipedia.org/wiki/Precision_(computer_science)"
      ],
      "metadata": {
        "id": "uF7zO4W47FAM"
      }
    },
    {
      "cell_type": "code",
      "source": [
        "float_32_tensor = torch.tensor([3.0,6.0,9.0],\n",
        "                               dtype=None, #what is the datatype(e.g. Float32, Float16)\n",
        "                               device=None, #what device the tensor is on\n",
        "                               requires_grad=False) #whether or not to track gradients with tensors operators\n",
        "float_32_tensor"
      ],
      "metadata": {
        "colab": {
          "base_uri": "https://localhost:8080/"
        },
        "id": "ntqBAg9c7H1W",
        "outputId": "18c92655-491e-4645-f31b-75f53953c85a"
      },
      "execution_count": 47,
      "outputs": [
        {
          "output_type": "execute_result",
          "data": {
            "text/plain": [
              "tensor([3., 6., 9.])"
            ]
          },
          "metadata": {},
          "execution_count": 47
        }
      ]
    },
    {
      "cell_type": "code",
      "source": [
        "float_16_tensor = float_32_tensor.type(torch.float16)\n",
        "float_16_tensor"
      ],
      "metadata": {
        "colab": {
          "base_uri": "https://localhost:8080/"
        },
        "id": "VnnXBoGk7TA7",
        "outputId": "2332722e-3d00-4d9e-a275-c54b9451e510"
      },
      "execution_count": 48,
      "outputs": [
        {
          "output_type": "execute_result",
          "data": {
            "text/plain": [
              "tensor([3., 6., 9.], dtype=torch.float16)"
            ]
          },
          "metadata": {},
          "execution_count": 48
        }
      ]
    },
    {
      "cell_type": "code",
      "source": [
        "int_32_tensor = torch.tensor([3,6,9], dtype=torch.long)\n",
        "int_32_tensor"
      ],
      "metadata": {
        "colab": {
          "base_uri": "https://localhost:8080/"
        },
        "id": "U8rGfx6y-uoP",
        "outputId": "00a68eb9-8a50-49d0-e7ea-fb7307d30edc"
      },
      "execution_count": 49,
      "outputs": [
        {
          "output_type": "execute_result",
          "data": {
            "text/plain": [
              "tensor([3, 6, 9])"
            ]
          },
          "metadata": {},
          "execution_count": 49
        }
      ]
    },
    {
      "cell_type": "code",
      "source": [
        "float_32_tensor * int_32_tensor"
      ],
      "metadata": {
        "colab": {
          "base_uri": "https://localhost:8080/"
        },
        "id": "fW2Ti-M_BpO5",
        "outputId": "bee3e033-130c-407d-ecda-d74bf831d1fc"
      },
      "execution_count": 50,
      "outputs": [
        {
          "output_type": "execute_result",
          "data": {
            "text/plain": [
              "tensor([ 9., 36., 81.])"
            ]
          },
          "metadata": {},
          "execution_count": 50
        }
      ]
    },
    {
      "cell_type": "markdown",
      "source": [
        "##Getting information from tensors (tensor attributes)\n",
        "\n",
        "1. Tensor not right datatype - to get datatype from a tensor, can use `tensor.dtype`\n",
        "2. Tensor not right shape - to get shade from a tensor, use `tensor.shape`\n",
        "3. Tensor not on right device - to get device drom a tensor, use `tensor.device`"
      ],
      "metadata": {
        "id": "36Hc0EGDCGpS"
      }
    },
    {
      "cell_type": "code",
      "source": [
        "# Create a tensor\n",
        "some_tensor = torch.rand(3,4)\n",
        "some_tensor"
      ],
      "metadata": {
        "colab": {
          "base_uri": "https://localhost:8080/"
        },
        "id": "O1rIr_NMBtMp",
        "outputId": "4e6ea4d1-2004-4485-903e-af32f08b4952"
      },
      "execution_count": 52,
      "outputs": [
        {
          "output_type": "execute_result",
          "data": {
            "text/plain": [
              "tensor([[0.6590, 0.7679, 0.7657, 0.3092],\n",
              "        [0.7052, 0.7324, 0.3733, 0.8439],\n",
              "        [0.8657, 0.7832, 0.1805, 0.6779]])"
            ]
          },
          "metadata": {},
          "execution_count": 52
        }
      ]
    },
    {
      "cell_type": "code",
      "source": [
        "print(some_tensor)\n",
        "print(f\"Datatype of tensor: {some_tensor.dtype}\")\n",
        "print(f\"Shape of tensor: {some_tensor.size}\")\n",
        "print(f\"Device tensor is on: {some_tensor.device}\")"
      ],
      "metadata": {
        "colab": {
          "base_uri": "https://localhost:8080/"
        },
        "id": "OQbyZystCZEQ",
        "outputId": "2dca1078-2f72-46e3-ec95-502e429239e1"
      },
      "execution_count": 56,
      "outputs": [
        {
          "output_type": "stream",
          "name": "stdout",
          "text": [
            "tensor([[0.6590, 0.7679, 0.7657, 0.3092],\n",
            "        [0.7052, 0.7324, 0.3733, 0.8439],\n",
            "        [0.8657, 0.7832, 0.1805, 0.6779]])\n",
            "Datatype of tensor: torch.float32\n",
            "Shape of tensor: <built-in method size of Tensor object at 0x7c6cddd36570>\n",
            "Device tensor is on: cpu\n"
          ]
        }
      ]
    },
    {
      "cell_type": "markdown",
      "source": [
        "## Manipulating Tensors (Tensor Operations)\n",
        "\n",
        "- Addition\n",
        "- Subtraction\n",
        "- Multiplication (element-wise)\n",
        "- Division\n",
        "- Matrix Multiplication"
      ],
      "metadata": {
        "id": "u8-0LwjhDwPd"
      }
    },
    {
      "cell_type": "code",
      "source": [
        "# Create a tensor and add 10\n",
        "\n",
        "tensor = torch.tensor([1,2,3])\n",
        "tensor + 10"
      ],
      "metadata": {
        "colab": {
          "base_uri": "https://localhost:8080/"
        },
        "id": "zx30zm3WCdzu",
        "outputId": "fab1f61f-1fe2-43e0-8898-5ef8c93ab3a0"
      },
      "execution_count": 57,
      "outputs": [
        {
          "output_type": "execute_result",
          "data": {
            "text/plain": [
              "tensor([11, 12, 13])"
            ]
          },
          "metadata": {},
          "execution_count": 57
        }
      ]
    },
    {
      "cell_type": "code",
      "source": [
        "#Multiply by 10\n",
        "tensor * 10"
      ],
      "metadata": {
        "colab": {
          "base_uri": "https://localhost:8080/"
        },
        "id": "rkcrsW9yEM04",
        "outputId": "f433a580-1d4b-4b88-e8a8-4130736e246f"
      },
      "execution_count": 58,
      "outputs": [
        {
          "output_type": "execute_result",
          "data": {
            "text/plain": [
              "tensor([10, 20, 30])"
            ]
          },
          "metadata": {},
          "execution_count": 58
        }
      ]
    },
    {
      "cell_type": "code",
      "source": [
        "#Subtract 10\n",
        "tensor - 10"
      ],
      "metadata": {
        "colab": {
          "base_uri": "https://localhost:8080/"
        },
        "id": "xkPrznaTERxc",
        "outputId": "c8283a91-d468-46b1-edfe-d98f0ffef8eb"
      },
      "execution_count": 59,
      "outputs": [
        {
          "output_type": "execute_result",
          "data": {
            "text/plain": [
              "tensor([-9, -8, -7])"
            ]
          },
          "metadata": {},
          "execution_count": 59
        }
      ]
    },
    {
      "cell_type": "code",
      "source": [
        "#Try out Pytorch in-built functions\n",
        "torch.mul(tensor,10)"
      ],
      "metadata": {
        "colab": {
          "base_uri": "https://localhost:8080/"
        },
        "id": "lF3ZwYQME_1_",
        "outputId": "3cce2d88-d433-4f69-f6c4-8a94e8237005"
      },
      "execution_count": 60,
      "outputs": [
        {
          "output_type": "execute_result",
          "data": {
            "text/plain": [
              "tensor([10, 20, 30])"
            ]
          },
          "metadata": {},
          "execution_count": 60
        }
      ]
    },
    {
      "cell_type": "markdown",
      "source": [
        "## Matrix Multiplication\n",
        "\n",
        "Two main ways to do it when talking about neural networks and deep learning:\n",
        "\n",
        "1. Element-wise multiplication\n",
        "2. Matrix multiplication (dot product)\n",
        "\n",
        "More information on multiplying matrices - https://www.mathsisfun.com/algebra/matrix-multiplying.html\n",
        "\n",
        "Visuals: https://matrixmultiplication.xyz/\n",
        "\n",
        "\n",
        "Two main rules to follow to perform matrix multiplication:\n",
        "1. The **inner dimensions** must match:\n",
        "- `(3,2) @ (3,2)` won't work\n",
        "- `(3,2) @ (2,3)` will work\n",
        "- `(2,3) @ (3,2)` will work\n",
        "\n",
        "2. The resulting Matrix has the shape of the **outer dimensions**\n",
        "- `(2,3) @ (3,2)` -> `(2,2)`\n",
        "- `(3,2) @ (2,3)` -> `(3,3)`"
      ],
      "metadata": {
        "id": "3nAnWkNMHKnR"
      }
    },
    {
      "cell_type": "code",
      "source": [
        "#Element wise multiplication\n",
        "\n",
        "print(tensor, \"*\", tensor)\n",
        "print(f\"Equals: {tensor * tensor}\")"
      ],
      "metadata": {
        "colab": {
          "base_uri": "https://localhost:8080/"
        },
        "id": "jrG-RahpFN1U",
        "outputId": "ad4c8c2f-6f0f-4ea2-8bf5-2182c4594f25"
      },
      "execution_count": 62,
      "outputs": [
        {
          "output_type": "stream",
          "name": "stdout",
          "text": [
            "tensor([1, 2, 3]) * tensor([1, 2, 3])\n",
            "Equals: tensor([1, 4, 9])\n"
          ]
        }
      ]
    },
    {
      "cell_type": "code",
      "source": [
        "#Matrix Multiplication\n",
        "torch.matmul(tensor,tensor)"
      ],
      "metadata": {
        "colab": {
          "base_uri": "https://localhost:8080/"
        },
        "id": "7RiQ32EmIdIz",
        "outputId": "2b1f87d0-f15d-4867-8626-de6f88323555"
      },
      "execution_count": 65,
      "outputs": [
        {
          "output_type": "execute_result",
          "data": {
            "text/plain": [
              "tensor(14)"
            ]
          },
          "metadata": {},
          "execution_count": 65
        }
      ]
    },
    {
      "cell_type": "code",
      "source": [
        "#Or\n",
        "1*1 + 2*2 + 3*3"
      ],
      "metadata": {
        "colab": {
          "base_uri": "https://localhost:8080/"
        },
        "id": "OIWcd8N0Jp7e",
        "outputId": "ad322a2a-5739-42ad-a5bf-131686bff620"
      },
      "execution_count": 66,
      "outputs": [
        {
          "output_type": "execute_result",
          "data": {
            "text/plain": [
              "14"
            ]
          },
          "metadata": {},
          "execution_count": 66
        }
      ]
    },
    {
      "cell_type": "code",
      "source": [
        "%%time\n",
        "value = 0\n",
        "for i in range(len(tensor)):\n",
        "  value+= tensor[i] * tensor[i]\n",
        "print(value)"
      ],
      "metadata": {
        "colab": {
          "base_uri": "https://localhost:8080/"
        },
        "id": "awKn88xvKKb8",
        "outputId": "3cc0fe2a-e92c-40e1-b530-d31a03207bb2"
      },
      "execution_count": 67,
      "outputs": [
        {
          "output_type": "stream",
          "name": "stdout",
          "text": [
            "tensor(14)\n",
            "CPU times: user 2.83 ms, sys: 0 ns, total: 2.83 ms\n",
            "Wall time: 4.2 ms\n"
          ]
        }
      ]
    },
    {
      "cell_type": "code",
      "source": [
        "%%time\n",
        "torch.matmul(tensor,tensor)"
      ],
      "metadata": {
        "colab": {
          "base_uri": "https://localhost:8080/"
        },
        "id": "PUwvjG9FKnz8",
        "outputId": "d5004270-df91-4b7a-dec2-b7d7f29b758c"
      },
      "execution_count": 68,
      "outputs": [
        {
          "output_type": "stream",
          "name": "stdout",
          "text": [
            "CPU times: user 503 µs, sys: 0 ns, total: 503 µs\n",
            "Wall time: 413 µs\n"
          ]
        },
        {
          "output_type": "execute_result",
          "data": {
            "text/plain": [
              "tensor(14)"
            ]
          },
          "metadata": {},
          "execution_count": 68
        }
      ]
    },
    {
      "cell_type": "markdown",
      "source": [
        "###Common error in matrix multiplications: shape errors"
      ],
      "metadata": {
        "id": "_pKNI7d-LXTE"
      }
    },
    {
      "cell_type": "code",
      "source": [
        "#Shapes for matrix multiplication\n",
        "\n",
        "tensor_A = torch.tensor([[1,2],\n",
        "                        [3,4],\n",
        "                        [5,6]])\n",
        "tensor_B = torch.tensor([[7,10],\n",
        "                        [8,11],\n",
        "                        [9,12]])\n",
        "# torch.mm(tensor_A, tensor_B) #torch.mm is an alias for torch.matmult"
      ],
      "metadata": {
        "id": "a9cbLH6UKqnj"
      },
      "execution_count": 72,
      "outputs": []
    },
    {
      "cell_type": "code",
      "source": [
        "tensor_A.shape, tensor_B.shape"
      ],
      "metadata": {
        "colab": {
          "base_uri": "https://localhost:8080/"
        },
        "id": "s5kerJH4OVb5",
        "outputId": "dbee04ae-adca-490d-a888-f5677caf47bc"
      },
      "execution_count": 73,
      "outputs": [
        {
          "output_type": "execute_result",
          "data": {
            "text/plain": [
              "(torch.Size([3, 2]), torch.Size([3, 2]))"
            ]
          },
          "metadata": {},
          "execution_count": 73
        }
      ]
    },
    {
      "cell_type": "code",
      "source": [
        "#To fix this issue, transpose it\n",
        "\n",
        "tensor_B.T"
      ],
      "metadata": {
        "colab": {
          "base_uri": "https://localhost:8080/"
        },
        "id": "HR8nLqOCObr7",
        "outputId": "069e4d83-789f-4580-b183-f589f4ae5348"
      },
      "execution_count": 74,
      "outputs": [
        {
          "output_type": "execute_result",
          "data": {
            "text/plain": [
              "tensor([[ 7,  8,  9],\n",
              "        [10, 11, 12]])"
            ]
          },
          "metadata": {},
          "execution_count": 74
        }
      ]
    },
    {
      "cell_type": "code",
      "source": [
        "print(f\"Original shapes: tensor_A ={tensor_A.shape}, tensor_B = {tensor_B.shape}\")\n",
        "print(f\"Original shapes: tensor_A ={tensor_A.shape} (same as above), tensor_B.T = {tensor_B.T.shape}\")\n",
        "print(f\"Multiplying {tensor_A.shape} @ {tensor_B.T.shape}\")\n",
        "print(\"Output: \\n\")\n",
        "output = torch.matmul(tensor_A,tensor_B.T)\n",
        "print(output)\n",
        "print(f\"\\nOutput shape:{output.shape}\")"
      ],
      "metadata": {
        "colab": {
          "base_uri": "https://localhost:8080/"
        },
        "id": "fFBrdVCJPEe4",
        "outputId": "30cf2105-188a-4aa9-a329-7d4e53f5d768"
      },
      "execution_count": 78,
      "outputs": [
        {
          "output_type": "stream",
          "name": "stdout",
          "text": [
            "Original shapes: tensor_A =torch.Size([3, 2]), tensor_B = torch.Size([3, 2])\n",
            "Original shapes: tensor_A =torch.Size([3, 2]) (same as above), tensor_B.T = torch.Size([2, 3])\n",
            "Multiplying torch.Size([3, 2]) @ torch.Size([2, 3])\n",
            "Output: \n",
            "\n",
            "tensor([[ 27,  30,  33],\n",
            "        [ 61,  68,  75],\n",
            "        [ 95, 106, 117]])\n",
            "\n",
            "Output shape:torch.Size([3, 3])\n"
          ]
        }
      ]
    },
    {
      "cell_type": "code",
      "source": [],
      "metadata": {
        "id": "69_kda2SPKx8"
      },
      "execution_count": null,
      "outputs": []
    },
    {
      "cell_type": "markdown",
      "source": [
        "## Finding the min, max, mean, sum, etc (tensor aggregation)\n"
      ],
      "metadata": {
        "id": "_8kYRF21R8ZT"
      }
    },
    {
      "cell_type": "code",
      "source": [
        "# Create a tensor\n",
        "x = torch.arange(0,100,10)\n",
        "x"
      ],
      "metadata": {
        "colab": {
          "base_uri": "https://localhost:8080/"
        },
        "id": "0nYmvE6tSCBL",
        "outputId": "2bf0ea20-65b6-4b05-8a8a-bdc7819b254a"
      },
      "execution_count": 4,
      "outputs": [
        {
          "output_type": "execute_result",
          "data": {
            "text/plain": [
              "tensor([ 0, 10, 20, 30, 40, 50, 60, 70, 80, 90])"
            ]
          },
          "metadata": {},
          "execution_count": 4
        }
      ]
    },
    {
      "cell_type": "code",
      "source": [
        "#Min\n",
        "torch.min(x), x.min()"
      ],
      "metadata": {
        "colab": {
          "base_uri": "https://localhost:8080/"
        },
        "id": "_Qp-gGZaShXV",
        "outputId": "e0a46a04-a544-423b-e799-130910853132"
      },
      "execution_count": 81,
      "outputs": [
        {
          "output_type": "execute_result",
          "data": {
            "text/plain": [
              "(tensor(0), tensor(0))"
            ]
          },
          "metadata": {},
          "execution_count": 81
        }
      ]
    },
    {
      "cell_type": "code",
      "source": [
        "#Max\n",
        "torch.max(x), x.max()"
      ],
      "metadata": {
        "colab": {
          "base_uri": "https://localhost:8080/"
        },
        "id": "pgU2nsjlSpyC",
        "outputId": "57cbe6d9-6944-4b71-df71-6e9f72721299"
      },
      "execution_count": 82,
      "outputs": [
        {
          "output_type": "execute_result",
          "data": {
            "text/plain": [
              "(tensor(90), tensor(90))"
            ]
          },
          "metadata": {},
          "execution_count": 82
        }
      ]
    },
    {
      "cell_type": "code",
      "source": [
        "#Mean - Requires tensor of data type float32\n",
        "torch.mean(x.type(torch.float32)), x.type(torch.float32).mean()"
      ],
      "metadata": {
        "colab": {
          "base_uri": "https://localhost:8080/"
        },
        "id": "eHkGr4uySsSw",
        "outputId": "9a5785a4-c21b-4dc5-c60a-f91ba53f5bfb"
      },
      "execution_count": 85,
      "outputs": [
        {
          "output_type": "execute_result",
          "data": {
            "text/plain": [
              "(tensor(45.), tensor(45.))"
            ]
          },
          "metadata": {},
          "execution_count": 85
        }
      ]
    },
    {
      "cell_type": "code",
      "source": [
        "#Sum\n",
        "torch.sum(x), x.sum()"
      ],
      "metadata": {
        "colab": {
          "base_uri": "https://localhost:8080/"
        },
        "id": "R0qqmMmJTL7y",
        "outputId": "37e31476-2cc0-4d67-975c-ff79b3a42747"
      },
      "execution_count": 86,
      "outputs": [
        {
          "output_type": "execute_result",
          "data": {
            "text/plain": [
              "(tensor(450), tensor(450))"
            ]
          },
          "metadata": {},
          "execution_count": 86
        }
      ]
    },
    {
      "cell_type": "code",
      "source": [
        "#Fiding the position of min and max. Returns the index\n",
        "x.argmin()\n",
        "x.argmax()"
      ],
      "metadata": {
        "colab": {
          "base_uri": "https://localhost:8080/"
        },
        "id": "fDbI2RdpTtD6",
        "outputId": "99ff8e6a-e55a-433a-c367-697f89429e94"
      },
      "execution_count": 8,
      "outputs": [
        {
          "output_type": "execute_result",
          "data": {
            "text/plain": [
              "tensor(9)"
            ]
          },
          "metadata": {},
          "execution_count": 8
        }
      ]
    },
    {
      "cell_type": "code",
      "source": [],
      "metadata": {
        "id": "ZzK3jddgc-lF"
      },
      "execution_count": null,
      "outputs": []
    },
    {
      "cell_type": "markdown",
      "source": [
        "##Reshaping, stacking, squeezing and unsqueezing tensors\n",
        "\n",
        "- Reshaping - Reshapes an input to a defined shape\n",
        "- View - Return a view of an input tensor of a certain shape but keep the same memory as the original tensor\n",
        "- Stacking - Combine multiple tensors on top of each other (vstack) or side by side(hstack)\n",
        "- Squeeze - Removes all `1` dimensions from a tensor\n",
        "- Unsqueeze - Adds a `1` dimention to a target tensor\n",
        "- Permute - Return a view of the input with dimensions permuted(swapped) in a certain way\n"
      ],
      "metadata": {
        "id": "6cO1IajKhuwP"
      }
    },
    {
      "cell_type": "code",
      "source": [
        "x = torch.arange(1.,10.)\n",
        "x, x.shape"
      ],
      "metadata": {
        "colab": {
          "base_uri": "https://localhost:8080/"
        },
        "id": "uL4L3vFGjqbG",
        "outputId": "3756a0db-b296-4f71-b69b-d9f6a6f6254e"
      },
      "execution_count": 5,
      "outputs": [
        {
          "output_type": "execute_result",
          "data": {
            "text/plain": [
              "(tensor([1., 2., 3., 4., 5., 6., 7., 8., 9.]), torch.Size([9]))"
            ]
          },
          "metadata": {},
          "execution_count": 5
        }
      ]
    },
    {
      "cell_type": "code",
      "source": [
        "#Add an extra dimension\n",
        "x_reshaped = x.reshape(1,9)\n",
        "x_reshaped, x_reshaped.shape"
      ],
      "metadata": {
        "colab": {
          "base_uri": "https://localhost:8080/"
        },
        "id": "E8McX1iMjylN",
        "outputId": "8d9479a4-d08a-4439-e480-dad765ae0526"
      },
      "execution_count": 8,
      "outputs": [
        {
          "output_type": "execute_result",
          "data": {
            "text/plain": [
              "(tensor([[1., 2., 3., 4., 5., 6., 7., 8., 9.]]), torch.Size([1, 9]))"
            ]
          },
          "metadata": {},
          "execution_count": 8
        }
      ]
    },
    {
      "cell_type": "code",
      "source": [
        "x_reshaped = x.reshape(9,1)\n",
        "x_reshaped, x_reshaped.shape"
      ],
      "metadata": {
        "colab": {
          "base_uri": "https://localhost:8080/"
        },
        "id": "4vCljOX2lI-N",
        "outputId": "af3cf11c-ba71-4491-a36a-c4fdd1d4802f"
      },
      "execution_count": 7,
      "outputs": [
        {
          "output_type": "execute_result",
          "data": {
            "text/plain": [
              "(tensor([[1.],\n",
              "         [2.],\n",
              "         [3.],\n",
              "         [4.],\n",
              "         [5.],\n",
              "         [6.],\n",
              "         [7.],\n",
              "         [8.],\n",
              "         [9.]]),\n",
              " torch.Size([9, 1]))"
            ]
          },
          "metadata": {},
          "execution_count": 7
        }
      ]
    },
    {
      "cell_type": "code",
      "source": [
        "#Change the view\n",
        "z = x.view(1,9)\n",
        "z, z.shape"
      ],
      "metadata": {
        "colab": {
          "base_uri": "https://localhost:8080/"
        },
        "id": "MFg2WPK3mKv1",
        "outputId": "055b5295-d7ee-49ad-9543-22597d5b774f"
      },
      "execution_count": 7,
      "outputs": [
        {
          "output_type": "execute_result",
          "data": {
            "text/plain": [
              "(tensor([[1., 2., 3., 4., 5., 6., 7., 8., 9.]]), torch.Size([1, 9]))"
            ]
          },
          "metadata": {},
          "execution_count": 7
        }
      ]
    },
    {
      "cell_type": "code",
      "source": [
        "#Chaing z changes x (shares the same memory as the original input)\n",
        "z[:,0] = 5\n",
        "z, x"
      ],
      "metadata": {
        "colab": {
          "base_uri": "https://localhost:8080/"
        },
        "id": "4unGAaSimQzL",
        "outputId": "9911d3e3-9304-438d-bd40-38ea86834a6a"
      },
      "execution_count": 8,
      "outputs": [
        {
          "output_type": "execute_result",
          "data": {
            "text/plain": [
              "(tensor([[5., 2., 3., 4., 5., 6., 7., 8., 9.]]),\n",
              " tensor([5., 2., 3., 4., 5., 6., 7., 8., 9.]))"
            ]
          },
          "metadata": {},
          "execution_count": 8
        }
      ]
    },
    {
      "cell_type": "code",
      "source": [
        "#Stacking tensors\n",
        "x_stacked = torch.stack([x,x,x,x], dim=0)\n",
        "x_stacked"
      ],
      "metadata": {
        "colab": {
          "base_uri": "https://localhost:8080/"
        },
        "id": "OvkE7ZWKmdMO",
        "outputId": "2ee6673b-5cfc-4c1e-d401-751c3d79b039"
      },
      "execution_count": 11,
      "outputs": [
        {
          "output_type": "execute_result",
          "data": {
            "text/plain": [
              "tensor([[5., 2., 3., 4., 5., 6., 7., 8., 9.],\n",
              "        [5., 2., 3., 4., 5., 6., 7., 8., 9.],\n",
              "        [5., 2., 3., 4., 5., 6., 7., 8., 9.],\n",
              "        [5., 2., 3., 4., 5., 6., 7., 8., 9.]])"
            ]
          },
          "metadata": {},
          "execution_count": 11
        }
      ]
    },
    {
      "cell_type": "code",
      "source": [
        "print(f\"Previous tensor: {x_reshaped}\")\n",
        "print(f\"Previous shape: {x_reshaped.shape}\")\n",
        "#Squeezing a tensor\n",
        "x_squeezed = x_reshaped.squeeze()\n",
        "print(f\"\\nNew Squeezed tensor: {x_squeezed}\")\n",
        "print(f\"Squeezed tensor shape: {x_squeezed.shape}\")"
      ],
      "metadata": {
        "colab": {
          "base_uri": "https://localhost:8080/"
        },
        "id": "SCnpWCHhm81X",
        "outputId": "bed9eef3-31c0-421d-a9a6-0f5499b80de9"
      },
      "execution_count": 15,
      "outputs": [
        {
          "output_type": "stream",
          "name": "stdout",
          "text": [
            "Previous tensor: tensor([[1., 2., 3., 4., 5., 6., 7., 8., 9.]])\n",
            "Previous shape: torch.Size([1, 9])\n",
            "\n",
            "New Squeezed tensor: tensor([1., 2., 3., 4., 5., 6., 7., 8., 9.])\n",
            "Squeezed tensor shape: torch.Size([9])\n"
          ]
        }
      ]
    },
    {
      "cell_type": "code",
      "source": [
        "#Unsqueeze a tensor\n",
        "print(f\"Previous tensor: {x_squeezed}\")\n",
        "print(f\"Previous shape: {x_squeezed.shape}\")\n",
        "x_unsqueezed = x_squeezed.unsqueeze(dim=0)\n",
        "print(f\"\\nNew tensor: {x_unsqueezed}\")\n",
        "print(f\"\\nNew tensor shape: {x_unsqueezed.shape}\")"
      ],
      "metadata": {
        "colab": {
          "base_uri": "https://localhost:8080/"
        },
        "id": "pXgQHfFgaPgZ",
        "outputId": "c9dfa485-765b-4e8b-d8da-adfcd2f368e2"
      },
      "execution_count": 18,
      "outputs": [
        {
          "output_type": "stream",
          "name": "stdout",
          "text": [
            "Previous tensor: tensor([1., 2., 3., 4., 5., 6., 7., 8., 9.])\n",
            "Previous shape: torch.Size([9])\n",
            "\n",
            "New tensor: tensor([[1., 2., 3., 4., 5., 6., 7., 8., 9.]])\n",
            "\n",
            "New tensor shape: torch.Size([1, 9])\n"
          ]
        }
      ]
    },
    {
      "cell_type": "code",
      "source": [
        "#Permute a tensor - Rearranges the dimensions of a tensor in a specified order\n",
        "x_original = torch.rand(size=(224,224,3))\n",
        "x_permuted = x_original.permute(2, 0, 1) #shift the axis: 0->1, 1->2, 2->0\n",
        "print(f\"Previous shape {x_original}\")\n",
        "print(f\"New shape {x_permuted}\")"
      ],
      "metadata": {
        "colab": {
          "base_uri": "https://localhost:8080/"
        },
        "id": "77fMbuqmbw6c",
        "outputId": "d01244f3-3152-4f9a-a449-730227b06b05"
      },
      "execution_count": 21,
      "outputs": [
        {
          "output_type": "stream",
          "name": "stdout",
          "text": [
            "Previous shape tensor([[[0.9370, 0.1971, 0.4981],\n",
            "         [0.5065, 0.2076, 0.5628],\n",
            "         [0.0753, 0.6223, 0.3488],\n",
            "         ...,\n",
            "         [0.9062, 0.5046, 0.7857],\n",
            "         [0.9976, 0.0739, 0.7104],\n",
            "         [0.1590, 0.3249, 0.3736]],\n",
            "\n",
            "        [[0.5083, 0.8140, 0.0324],\n",
            "         [0.2471, 0.6891, 0.6527],\n",
            "         [0.5630, 0.5622, 0.5899],\n",
            "         ...,\n",
            "         [0.6070, 0.6999, 0.0432],\n",
            "         [0.3303, 0.4562, 0.2038],\n",
            "         [0.8472, 0.0607, 0.2590]],\n",
            "\n",
            "        [[0.3382, 0.4123, 0.2684],\n",
            "         [0.8325, 0.7908, 0.9350],\n",
            "         [0.7737, 0.4520, 0.8417],\n",
            "         ...,\n",
            "         [0.5133, 0.9048, 0.2089],\n",
            "         [0.1694, 0.8748, 0.3766],\n",
            "         [0.9669, 0.1147, 0.0591]],\n",
            "\n",
            "        ...,\n",
            "\n",
            "        [[0.9298, 0.3179, 0.7800],\n",
            "         [0.0423, 0.5778, 0.6026],\n",
            "         [0.8247, 0.4314, 0.4785],\n",
            "         ...,\n",
            "         [0.3951, 0.9283, 0.6208],\n",
            "         [0.7775, 0.0249, 0.5198],\n",
            "         [0.0201, 0.0122, 0.2588]],\n",
            "\n",
            "        [[0.5978, 0.7962, 0.4661],\n",
            "         [0.0340, 0.6493, 0.0945],\n",
            "         [0.1618, 0.3029, 0.9147],\n",
            "         ...,\n",
            "         [0.9849, 0.0261, 0.4540],\n",
            "         [0.4555, 0.8235, 0.0068],\n",
            "         [0.6332, 0.8531, 0.2939]],\n",
            "\n",
            "        [[0.8090, 0.0807, 0.8280],\n",
            "         [0.1815, 0.6053, 0.5742],\n",
            "         [0.8504, 0.9051, 0.8910],\n",
            "         ...,\n",
            "         [0.1922, 0.1379, 0.6397],\n",
            "         [0.0889, 0.7318, 0.0019],\n",
            "         [0.9514, 0.6426, 0.9811]]])\n",
            "New shape tensor([[[0.9370, 0.5065, 0.0753,  ..., 0.9062, 0.9976, 0.1590],\n",
            "         [0.5083, 0.2471, 0.5630,  ..., 0.6070, 0.3303, 0.8472],\n",
            "         [0.3382, 0.8325, 0.7737,  ..., 0.5133, 0.1694, 0.9669],\n",
            "         ...,\n",
            "         [0.9298, 0.0423, 0.8247,  ..., 0.3951, 0.7775, 0.0201],\n",
            "         [0.5978, 0.0340, 0.1618,  ..., 0.9849, 0.4555, 0.6332],\n",
            "         [0.8090, 0.1815, 0.8504,  ..., 0.1922, 0.0889, 0.9514]],\n",
            "\n",
            "        [[0.1971, 0.2076, 0.6223,  ..., 0.5046, 0.0739, 0.3249],\n",
            "         [0.8140, 0.6891, 0.5622,  ..., 0.6999, 0.4562, 0.0607],\n",
            "         [0.4123, 0.7908, 0.4520,  ..., 0.9048, 0.8748, 0.1147],\n",
            "         ...,\n",
            "         [0.3179, 0.5778, 0.4314,  ..., 0.9283, 0.0249, 0.0122],\n",
            "         [0.7962, 0.6493, 0.3029,  ..., 0.0261, 0.8235, 0.8531],\n",
            "         [0.0807, 0.6053, 0.9051,  ..., 0.1379, 0.7318, 0.6426]],\n",
            "\n",
            "        [[0.4981, 0.5628, 0.3488,  ..., 0.7857, 0.7104, 0.3736],\n",
            "         [0.0324, 0.6527, 0.5899,  ..., 0.0432, 0.2038, 0.2590],\n",
            "         [0.2684, 0.9350, 0.8417,  ..., 0.2089, 0.3766, 0.0591],\n",
            "         ...,\n",
            "         [0.7800, 0.6026, 0.4785,  ..., 0.6208, 0.5198, 0.2588],\n",
            "         [0.4661, 0.0945, 0.9147,  ..., 0.4540, 0.0068, 0.2939],\n",
            "         [0.8280, 0.5742, 0.8910,  ..., 0.6397, 0.0019, 0.9811]]])\n"
          ]
        }
      ]
    },
    {
      "cell_type": "markdown",
      "source": [
        "##Indexing (Selecting data from tensors)\n",
        "\n",
        "Indexing with PyTorch is similar to indexing with NumPy\n"
      ],
      "metadata": {
        "id": "Fdbw0E-Aeoaf"
      }
    },
    {
      "cell_type": "code",
      "source": [
        "x = torch.arange(1, 10).reshape(1,3,3) #reshape is according to the size of the tensor's dimensions: 1 * 3 * 3 = 9\n",
        "x, x.shape"
      ],
      "metadata": {
        "colab": {
          "base_uri": "https://localhost:8080/"
        },
        "id": "PTXWAD56e4c_",
        "outputId": "e07e077a-10ab-46e7-a5f3-0b1d8e449745"
      },
      "execution_count": 22,
      "outputs": [
        {
          "output_type": "execute_result",
          "data": {
            "text/plain": [
              "(tensor([[[1, 2, 3],\n",
              "          [4, 5, 6],\n",
              "          [7, 8, 9]]]),\n",
              " torch.Size([1, 3, 3]))"
            ]
          },
          "metadata": {},
          "execution_count": 22
        }
      ]
    },
    {
      "cell_type": "code",
      "source": [
        "x[0]"
      ],
      "metadata": {
        "colab": {
          "base_uri": "https://localhost:8080/"
        },
        "id": "cCryTZPlfDlo",
        "outputId": "5a8f439f-26a8-4a17-aafd-ce684f332e11"
      },
      "execution_count": 23,
      "outputs": [
        {
          "output_type": "execute_result",
          "data": {
            "text/plain": [
              "tensor([[1, 2, 3],\n",
              "        [4, 5, 6],\n",
              "        [7, 8, 9]])"
            ]
          },
          "metadata": {},
          "execution_count": 23
        }
      ]
    },
    {
      "cell_type": "code",
      "source": [
        "#index the middle bracket\n",
        "x[0][0]"
      ],
      "metadata": {
        "colab": {
          "base_uri": "https://localhost:8080/"
        },
        "id": "1TTAoslTf37I",
        "outputId": "01900ff3-2295-4728-c489-06f7436a8ea2"
      },
      "execution_count": 24,
      "outputs": [
        {
          "output_type": "execute_result",
          "data": {
            "text/plain": [
              "tensor([1, 2, 3])"
            ]
          },
          "metadata": {},
          "execution_count": 24
        }
      ]
    },
    {
      "cell_type": "code",
      "source": [
        "#index the 1st element of the 1st dimention only\n",
        "x[0][0][0]"
      ],
      "metadata": {
        "colab": {
          "base_uri": "https://localhost:8080/"
        },
        "id": "2qZeb-xvf7yG",
        "outputId": "d64d5ab0-b76e-4b32-93a9-dcf7f8a4b6ae"
      },
      "execution_count": 25,
      "outputs": [
        {
          "output_type": "execute_result",
          "data": {
            "text/plain": [
              "tensor(1)"
            ]
          },
          "metadata": {},
          "execution_count": 25
        }
      ]
    },
    {
      "cell_type": "code",
      "source": [
        "#index the second element of the second dimention\n",
        "x[0][1][0]"
      ],
      "metadata": {
        "colab": {
          "base_uri": "https://localhost:8080/"
        },
        "id": "8pIPCBBmf_S_",
        "outputId": "e7dc2031-4148-4d8a-d0b1-7be79dfb4cca"
      },
      "execution_count": 32,
      "outputs": [
        {
          "output_type": "execute_result",
          "data": {
            "text/plain": [
              "tensor(4)"
            ]
          },
          "metadata": {},
          "execution_count": 32
        }
      ]
    },
    {
      "cell_type": "code",
      "source": [
        "#use : to select all elements of a target dimension\n",
        "x[:,0]"
      ],
      "metadata": {
        "colab": {
          "base_uri": "https://localhost:8080/"
        },
        "id": "_F_-tWF_g-xW",
        "outputId": "7baa0e39-f77f-4ec8-867d-4a3013e2cb09"
      },
      "execution_count": 33,
      "outputs": [
        {
          "output_type": "execute_result",
          "data": {
            "text/plain": [
              "tensor([[1, 2, 3]])"
            ]
          },
          "metadata": {},
          "execution_count": 33
        }
      ]
    },
    {
      "cell_type": "code",
      "source": [
        "#Get all values of the 0th and 1st dimention but only index 1 of 2nd dimension\n",
        "x[:,:,1]"
      ],
      "metadata": {
        "colab": {
          "base_uri": "https://localhost:8080/"
        },
        "id": "AJsI_XEBhUPn",
        "outputId": "7fb278a3-56f3-4289-f877-e484ceb36f73"
      },
      "execution_count": 34,
      "outputs": [
        {
          "output_type": "execute_result",
          "data": {
            "text/plain": [
              "tensor([[2, 5, 8]])"
            ]
          },
          "metadata": {},
          "execution_count": 34
        }
      ]
    },
    {
      "cell_type": "code",
      "source": [
        "#Get all values of the 0 dimension but only the 1 index of the 1st and 2nd dimension\n",
        "x[:,1, 1]"
      ],
      "metadata": {
        "colab": {
          "base_uri": "https://localhost:8080/"
        },
        "id": "1RWrbE7Qha8C",
        "outputId": "91979386-dc59-4cb9-b8f7-e6ae512d4f2c"
      },
      "execution_count": 35,
      "outputs": [
        {
          "output_type": "execute_result",
          "data": {
            "text/plain": [
              "tensor([5])"
            ]
          },
          "metadata": {},
          "execution_count": 35
        }
      ]
    },
    {
      "cell_type": "code",
      "source": [
        "#get index 0 and 0th and 1st dimension and all values of 2nd dimension\n",
        "x[0,0,:]"
      ],
      "metadata": {
        "colab": {
          "base_uri": "https://localhost:8080/"
        },
        "id": "P4Vvxf6rhok4",
        "outputId": "844b9817-5e2a-4ce8-b41d-115284c81969"
      },
      "execution_count": 36,
      "outputs": [
        {
          "output_type": "execute_result",
          "data": {
            "text/plain": [
              "tensor([1, 2, 3])"
            ]
          },
          "metadata": {},
          "execution_count": 36
        }
      ]
    },
    {
      "cell_type": "code",
      "source": [
        "#index on x to return 9\n",
        "x[0][2][2]"
      ],
      "metadata": {
        "colab": {
          "base_uri": "https://localhost:8080/"
        },
        "id": "c2ezP7Vih8zq",
        "outputId": "acb89d56-d912-48a5-b190-1729df2b1fd4"
      },
      "execution_count": 37,
      "outputs": [
        {
          "output_type": "execute_result",
          "data": {
            "text/plain": [
              "tensor(9)"
            ]
          },
          "metadata": {},
          "execution_count": 37
        }
      ]
    },
    {
      "cell_type": "code",
      "source": [
        "#index to return 3,6,9\n",
        "x[:,:,2]"
      ],
      "metadata": {
        "colab": {
          "base_uri": "https://localhost:8080/"
        },
        "id": "UcVFPz22i7j0",
        "outputId": "f79900d8-1927-4824-ebfa-101dbadef794"
      },
      "execution_count": 43,
      "outputs": [
        {
          "output_type": "execute_result",
          "data": {
            "text/plain": [
              "tensor([[3, 6, 9]])"
            ]
          },
          "metadata": {},
          "execution_count": 43
        }
      ]
    },
    {
      "cell_type": "code",
      "source": [],
      "metadata": {
        "id": "so1DCoH_jGsQ"
      },
      "execution_count": null,
      "outputs": []
    },
    {
      "cell_type": "markdown",
      "source": [
        "## PyTorch and NumPy\n",
        "\n",
        "- Data in NumPy, want in PyTorch tensor -> `torch.from_numpy(ndarray)`\n",
        "- PyTorch tensor ->NumPy -> `torch.Tensor.numpy()`"
      ],
      "metadata": {
        "id": "hFBDCFvyjyLT"
      }
    },
    {
      "cell_type": "code",
      "source": [
        "import torch\n",
        "import numpy as np\n",
        "\n",
        "array = np.arange(1.0, 8.0)\n",
        "tensor = torch.from_numpy(array) #when converting from numpy to pytorch, pytorch will default to float64 unless specified\n",
        "array, tensor"
      ],
      "metadata": {
        "colab": {
          "base_uri": "https://localhost:8080/"
        },
        "id": "HHX5OIcJj5Bk",
        "outputId": "986322b3-3e30-4f71-9ba0-bac43304fff9"
      },
      "execution_count": 45,
      "outputs": [
        {
          "output_type": "execute_result",
          "data": {
            "text/plain": [
              "(array([1., 2., 3., 4., 5., 6., 7.]),\n",
              " tensor([1., 2., 3., 4., 5., 6., 7.], dtype=torch.float64))"
            ]
          },
          "metadata": {},
          "execution_count": 45
        }
      ]
    },
    {
      "cell_type": "code",
      "source": [
        "#Tensor to numpy changes dtype to float32\n",
        "tensor = torch.ones(7)\n",
        "numpy_tensor = tensor.numpy()\n",
        "tensor,numpy_tensor"
      ],
      "metadata": {
        "colab": {
          "base_uri": "https://localhost:8080/"
        },
        "id": "iUqZheYqkjkI",
        "outputId": "b909aa39-2319-41ef-aabb-00ae3a729319"
      },
      "execution_count": 46,
      "outputs": [
        {
          "output_type": "execute_result",
          "data": {
            "text/plain": [
              "(tensor([1., 1., 1., 1., 1., 1., 1.]),\n",
              " array([1., 1., 1., 1., 1., 1., 1.], dtype=float32))"
            ]
          },
          "metadata": {},
          "execution_count": 46
        }
      ]
    },
    {
      "cell_type": "markdown",
      "source": [
        "##Reproducibility (Trying to take random out of random)\n",
        "\n",
        "To ensure the neural network learns:\n",
        "\n",
        "`starts with random numbers -> tensor operations -> update random numbers to try to make them better representations of data -> repeat`\n",
        "\n",
        "To reduce the randomness in neural networks and PyTorch a **Random Seed**\n",
        "A random seed reduces the \"flavour\" of randomness\n",
        "\n",
        "Documentation: https://pytorch.org/docs/stable/notes/randomness.html\n",
        "\n",
        "Wikipedia: https://en.wikipedia.org/wiki/Random_seed"
      ],
      "metadata": {
        "id": "7sDm1FsPpQ77"
      }
    },
    {
      "cell_type": "code",
      "source": [
        "random_tensor_A = torch.rand(3,4)\n",
        "random_tensor_B = torch.rand(3,4)\n",
        "\n",
        "print(random_tensor_A)\n",
        "print(random_tensor_B)\n",
        "print(random_tensor_A == random_tensor_B)"
      ],
      "metadata": {
        "colab": {
          "base_uri": "https://localhost:8080/"
        },
        "id": "e6xYjY63o7Ml",
        "outputId": "1bb588a9-5890-4a94-9508-931d53dc5ae6"
      },
      "execution_count": 49,
      "outputs": [
        {
          "output_type": "stream",
          "name": "stdout",
          "text": [
            "tensor([[0.2049, 0.8623, 0.2665, 0.9067],\n",
            "        [0.2873, 0.9967, 0.0723, 0.9718],\n",
            "        [0.3701, 0.3176, 0.2391, 0.5580]])\n",
            "tensor([[0.0568, 0.3550, 0.6201, 0.6730],\n",
            "        [0.0776, 0.5590, 0.2305, 0.5595],\n",
            "        [0.5878, 0.4624, 0.0167, 0.7832]])\n",
            "tensor([[False, False, False, False],\n",
            "        [False, False, False, False],\n",
            "        [False, False, False, False]])\n"
          ]
        }
      ]
    },
    {
      "cell_type": "code",
      "source": [
        "#Set a random seed\n",
        "RANDOM_SEED = 42\n",
        "\n",
        "torch.manual_seed(RANDOM_SEED)\n",
        "random_tensor_C = torch.rand(3,4)\n",
        "torch.manual_seed(RANDOM_SEED)\n",
        "random_tensor_D = torch.rand(3,4)\n",
        "\n",
        "print(random_tensor_C)\n",
        "print(random_tensor_D)\n",
        "print(random_tensor_C == random_tensor_D)"
      ],
      "metadata": {
        "colab": {
          "base_uri": "https://localhost:8080/"
        },
        "id": "wmDhtEhqqr6M",
        "outputId": "0b8f9fc4-a774-405d-ba5f-513accead922"
      },
      "execution_count": 53,
      "outputs": [
        {
          "output_type": "stream",
          "name": "stdout",
          "text": [
            "tensor([[0.8823, 0.9150, 0.3829, 0.9593],\n",
            "        [0.3904, 0.6009, 0.2566, 0.7936],\n",
            "        [0.9408, 0.1332, 0.9346, 0.5936]])\n",
            "tensor([[0.8823, 0.9150, 0.3829, 0.9593],\n",
            "        [0.3904, 0.6009, 0.2566, 0.7936],\n",
            "        [0.9408, 0.1332, 0.9346, 0.5936]])\n",
            "tensor([[True, True, True, True],\n",
            "        [True, True, True, True],\n",
            "        [True, True, True, True]])\n"
          ]
        }
      ]
    },
    {
      "cell_type": "markdown",
      "source": [
        "##Running tensors and PyTorch objects on GPU\n",
        "\n",
        "GPU = faster computation on numbers. NVidia Hardware + CUDA can increase the speed of computational power\n",
        "\n",
        "Three Main Options:\n",
        "\n",
        "1. Easiest - Google Colab\n",
        "2. Use your own GPU\n",
        "3. Use cloud computing like GCP, AWS, Azure\n",
        "\n",
        "2 and 3 requires setup. Refer to PyTorch documentation."
      ],
      "metadata": {
        "id": "xpC-xAtaskGb"
      }
    },
    {
      "cell_type": "code",
      "source": [
        "#Check for GPU access with PyTorch\n",
        "import torch\n",
        "torch.cuda.is_available()"
      ],
      "metadata": {
        "colab": {
          "base_uri": "https://localhost:8080/"
        },
        "id": "RoyZCP0fribP",
        "outputId": "5422d14c-0d10-45d2-af94-d2e436b7dea8"
      },
      "execution_count": 6,
      "outputs": [
        {
          "output_type": "execute_result",
          "data": {
            "text/plain": [
              "True"
            ]
          },
          "metadata": {},
          "execution_count": 6
        }
      ]
    },
    {
      "cell_type": "code",
      "source": [
        "device = \"cuda\" if torch.cuda.is_available() else \"cpu\"\n",
        "device"
      ],
      "metadata": {
        "colab": {
          "base_uri": "https://localhost:8080/",
          "height": 35
        },
        "id": "ER2c0aiiuzMO",
        "outputId": "45e49a7d-1a5b-4334-a190-2c89210c6f8b"
      },
      "execution_count": 8,
      "outputs": [
        {
          "output_type": "execute_result",
          "data": {
            "text/plain": [
              "'cuda'"
            ],
            "application/vnd.google.colaboratory.intrinsic+json": {
              "type": "string"
            }
          },
          "metadata": {},
          "execution_count": 8
        }
      ]
    },
    {
      "cell_type": "code",
      "source": [
        "#Count the number of devices\n",
        "torch.cuda.device_count()"
      ],
      "metadata": {
        "colab": {
          "base_uri": "https://localhost:8080/"
        },
        "id": "u3Oa1UFWvkDA",
        "outputId": "9bb635d1-2dd6-4119-cf08-d73079e1876c"
      },
      "execution_count": 9,
      "outputs": [
        {
          "output_type": "execute_result",
          "data": {
            "text/plain": [
              "1"
            ]
          },
          "metadata": {},
          "execution_count": 9
        }
      ]
    },
    {
      "cell_type": "markdown",
      "source": [
        "##Putting Tensors and models on the GPU\n",
        "\n",
        "Putting things in the GPU means faster calculations\n",
        "\n"
      ],
      "metadata": {
        "id": "zOG4U2solBS0"
      }
    },
    {
      "cell_type": "code",
      "source": [
        "#Create a tensor\n",
        "tensor = torch.tensor([1,2,3], device = \"cpu\")\n",
        "\n",
        "print(tensor, tensor.device)"
      ],
      "metadata": {
        "colab": {
          "base_uri": "https://localhost:8080/"
        },
        "id": "ptEbKWiQlWwv",
        "outputId": "69a01acf-bb19-45a2-8802-4f584c7de575"
      },
      "execution_count": 10,
      "outputs": [
        {
          "output_type": "stream",
          "name": "stdout",
          "text": [
            "tensor([1, 2, 3]) cpu\n"
          ]
        }
      ]
    },
    {
      "cell_type": "code",
      "source": [
        "#Move tensor to GPU if available\n",
        "\n",
        "tensor_on_gpu = tensor.to(device)\n",
        "tensor_on_gpu"
      ],
      "metadata": {
        "colab": {
          "base_uri": "https://localhost:8080/"
        },
        "id": "I7LcT5XJlgdV",
        "outputId": "0814058d-9f29-4cf9-dbb9-b60c1b798e04"
      },
      "execution_count": 11,
      "outputs": [
        {
          "output_type": "execute_result",
          "data": {
            "text/plain": [
              "tensor([1, 2, 3], device='cuda:0')"
            ]
          },
          "metadata": {},
          "execution_count": 11
        }
      ]
    },
    {
      "cell_type": "markdown",
      "source": [
        "## Moving back to the CPU\n"
      ],
      "metadata": {
        "id": "SBBxxoi2mUyM"
      }
    },
    {
      "cell_type": "code",
      "source": [
        "# tensor_on_gpu.numpy()"
      ],
      "metadata": {
        "id": "w5TzdL7_lwau"
      },
      "execution_count": 14,
      "outputs": []
    },
    {
      "cell_type": "code",
      "source": [
        "#To fix the GPU tensor with NumPy issue, first set it to CPU\n",
        "tensor_back_to_cpu = tensor_on_gpu.cpu().numpy()\n",
        "tensor_back_to_cpu"
      ],
      "metadata": {
        "colab": {
          "base_uri": "https://localhost:8080/"
        },
        "id": "iD28mZnbmah8",
        "outputId": "6572bb9f-36d8-4080-d8d4-c55aa6dcfb7e"
      },
      "execution_count": 13,
      "outputs": [
        {
          "output_type": "execute_result",
          "data": {
            "text/plain": [
              "array([1, 2, 3])"
            ]
          },
          "metadata": {},
          "execution_count": 13
        }
      ]
    },
    {
      "cell_type": "code",
      "source": [],
      "metadata": {
        "id": "Dts7-QaAoOgA"
      },
      "execution_count": null,
      "outputs": []
    }
  ]
}
