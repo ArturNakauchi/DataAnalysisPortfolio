{
 "cells": [
  {
   "cell_type": "code",
   "execution_count": 5,
   "id": "bd4a8df5",
   "metadata": {},
   "outputs": [],
   "source": [
    "#BMI = (weight in pounts x 703) / (height in inches x height in inches)\n",
    "# < 16.0\tSeverely Underweight\n",
    "# 16.0 - 18.4\tUnderweight\n",
    "# 18.5 - 24.9\tNormal\n",
    "# 25.0 - 29.9\tOverweight\n",
    "# 30.0 - 34.9\tModerately Obese\n",
    "# 35.0 - 39.9\tSeverely Obese\n",
    "# > 40.0\tMorbidly Obese\n"
   ]
  },
  {
   "cell_type": "code",
   "execution_count": 10,
   "id": "6fc79fc4",
   "metadata": {},
   "outputs": [
    {
     "name": "stdout",
     "output_type": "stream",
     "text": [
      "Enter your name: Artur\n",
      "Enter your weight in pounds: 170\n",
      "Enter your height in inches: 69\n",
      "Your BMI is:  25.101869355177485\n",
      "Artur, You are Overweight\n"
     ]
    }
   ],
   "source": [
    "name = input(\"Enter your name: \")\n",
    "\n",
    "weight = int(input(\"Enter your weight in pounds: \"))\n",
    "\n",
    "height = int(input(\"Enter your height in inches: \"))\n",
    "\n",
    "\n",
    "BMI = (weight * 703) / (height * height)\n",
    "print('Your BMI is: ', BMI)\n",
    "\n",
    "if BMI >0:\n",
    "    if(BMI<18.5):\n",
    "        print(name +\", You are Underweight\")\n",
    "    elif(BMI<=24.9):\n",
    "        print(name + \", You are Normal\")\n",
    "    elif(BMI<29.9):\n",
    "        print(name + \", You are Overweight\")\n",
    "    elif(BMI<34.9):\n",
    "        print(name + \", You are Obese\")\n",
    "    elif(BMI<39.9):\n",
    "        print(name + \", You are Severely Obese\")      \n",
    "    else:\n",
    "        print(name + \", You are Morbidly Obese\")\n",
    "else:\n",
    "    print(\"Please a valid input\")"
   ]
  },
  {
   "cell_type": "code",
   "execution_count": null,
   "id": "5decfa11",
   "metadata": {},
   "outputs": [],
   "source": [
    "\n",
    "        "
   ]
  },
  {
   "cell_type": "code",
   "execution_count": null,
   "id": "8e36fbd7",
   "metadata": {},
   "outputs": [],
   "source": []
  },
  {
   "cell_type": "code",
   "execution_count": null,
   "id": "9dbfa76a",
   "metadata": {},
   "outputs": [],
   "source": []
  },
  {
   "cell_type": "code",
   "execution_count": null,
   "id": "5b56b908",
   "metadata": {},
   "outputs": [],
   "source": []
  },
  {
   "cell_type": "code",
   "execution_count": null,
   "id": "9a12d5fe",
   "metadata": {},
   "outputs": [],
   "source": []
  },
  {
   "cell_type": "code",
   "execution_count": null,
   "id": "d39b6877",
   "metadata": {},
   "outputs": [],
   "source": []
  },
  {
   "cell_type": "code",
   "execution_count": null,
   "id": "4f1e7ff2",
   "metadata": {},
   "outputs": [],
   "source": []
  },
  {
   "cell_type": "code",
   "execution_count": null,
   "id": "bb123b1a",
   "metadata": {},
   "outputs": [],
   "source": []
  }
 ],
 "metadata": {
  "kernelspec": {
   "display_name": "Python 3 (ipykernel)",
   "language": "python",
   "name": "python3"
  },
  "language_info": {
   "codemirror_mode": {
    "name": "ipython",
    "version": 3
   },
   "file_extension": ".py",
   "mimetype": "text/x-python",
   "name": "python",
   "nbconvert_exporter": "python",
   "pygments_lexer": "ipython3",
   "version": "3.11.3"
  }
 },
 "nbformat": 4,
 "nbformat_minor": 5
}
