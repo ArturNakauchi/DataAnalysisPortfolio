{
 "cells": [
  {
   "cell_type": "code",
   "execution_count": 1,
   "id": "d9ed125f",
   "metadata": {},
   "outputs": [
    {
     "data": {
      "text/plain": [
       "int"
      ]
     },
     "execution_count": 1,
     "metadata": {},
     "output_type": "execute_result"
    }
   ],
   "source": [
    "type(- 12 + 100)"
   ]
  },
  {
   "cell_type": "code",
   "execution_count": 2,
   "id": "f72473f1",
   "metadata": {},
   "outputs": [
    {
     "data": {
      "text/plain": [
       "float"
      ]
     },
     "execution_count": 2,
     "metadata": {},
     "output_type": "execute_result"
    }
   ],
   "source": [
    "type(12 + 10.25)"
   ]
  },
  {
   "cell_type": "code",
   "execution_count": 3,
   "id": "35d2beb3",
   "metadata": {},
   "outputs": [
    {
     "data": {
      "text/plain": [
       "complex"
      ]
     },
     "execution_count": 3,
     "metadata": {},
     "output_type": "execute_result"
    }
   ],
   "source": [
    "type(12 + 3j)"
   ]
  },
  {
   "cell_type": "code",
   "execution_count": 6,
   "id": "89cfa451",
   "metadata": {},
   "outputs": [
    {
     "data": {
      "text/plain": [
       "bool"
      ]
     },
     "execution_count": 6,
     "metadata": {},
     "output_type": "execute_result"
    }
   ],
   "source": [
    "#Boolean\n",
    "\n",
    "type(True)\n",
    "type(False)\n",
    "type(1>5)"
   ]
  },
  {
   "cell_type": "code",
   "execution_count": 7,
   "id": "f9a6b235",
   "metadata": {},
   "outputs": [
    {
     "data": {
      "text/plain": [
       "False"
      ]
     },
     "execution_count": 7,
     "metadata": {},
     "output_type": "execute_result"
    }
   ],
   "source": [
    "1 > 5"
   ]
  },
  {
   "cell_type": "code",
   "execution_count": 8,
   "id": "67fd7499",
   "metadata": {},
   "outputs": [
    {
     "data": {
      "text/plain": [
       "'Single Quote'"
      ]
     },
     "execution_count": 8,
     "metadata": {},
     "output_type": "execute_result"
    }
   ],
   "source": [
    "#Strings\n",
    "'Single Quote'\n"
   ]
  },
  {
   "cell_type": "code",
   "execution_count": 9,
   "id": "89e149fa",
   "metadata": {},
   "outputs": [
    {
     "data": {
      "text/plain": [
       "'Double Quote'"
      ]
     },
     "execution_count": 9,
     "metadata": {},
     "output_type": "execute_result"
    }
   ],
   "source": [
    "\"Double Quote\""
   ]
  },
  {
   "cell_type": "code",
   "execution_count": 19,
   "id": "c2784e5b",
   "metadata": {},
   "outputs": [],
   "source": [
    "multiline=\"\"\"\n",
    "Long text\n",
    "I'm a poet\n",
    "I can write single and double quotes here\n",
    "\"Like this\" or like 'this'\n",
    "because I can\n",
    "\"\"\""
   ]
  },
  {
   "cell_type": "code",
   "execution_count": 20,
   "id": "258af5c2",
   "metadata": {},
   "outputs": [
    {
     "name": "stdout",
     "output_type": "stream",
     "text": [
      "\n",
      "Long text\n",
      "I'm a poet\n",
      "I can write single and double quotes here\n",
      "\"Like this\" or like 'this'\n",
      "because I can\n",
      "\n"
     ]
    }
   ],
   "source": [
    "print(multiline)"
   ]
  },
  {
   "cell_type": "code",
   "execution_count": 21,
   "id": "4b0fc0e8",
   "metadata": {},
   "outputs": [
    {
     "data": {
      "text/plain": [
       "str"
      ]
     },
     "execution_count": 21,
     "metadata": {},
     "output_type": "execute_result"
    }
   ],
   "source": [
    "type(multiline)"
   ]
  },
  {
   "cell_type": "code",
   "execution_count": 22,
   "id": "853e4ac2",
   "metadata": {},
   "outputs": [],
   "source": [
    "a = 'Hello World!'"
   ]
  },
  {
   "cell_type": "code",
   "execution_count": 23,
   "id": "5826b284",
   "metadata": {},
   "outputs": [
    {
     "name": "stdout",
     "output_type": "stream",
     "text": [
      "ello\n"
     ]
    }
   ],
   "source": [
    "print(a[1:5])"
   ]
  },
  {
   "cell_type": "code",
   "execution_count": 24,
   "id": "481034d7",
   "metadata": {},
   "outputs": [
    {
     "name": "stdout",
     "output_type": "stream",
     "text": [
      "H\n"
     ]
    }
   ],
   "source": [
    "print(a[0])"
   ]
  },
  {
   "cell_type": "code",
   "execution_count": 25,
   "id": "43e0a73b",
   "metadata": {},
   "outputs": [
    {
     "name": "stdout",
     "output_type": "stream",
     "text": [
      "Hello\n"
     ]
    }
   ],
   "source": [
    "print(a[:5])"
   ]
  },
  {
   "cell_type": "code",
   "execution_count": 26,
   "id": "6bf6e181",
   "metadata": {},
   "outputs": [
    {
     "name": "stdout",
     "output_type": "stream",
     "text": [
      "Hello Wo\n"
     ]
    }
   ],
   "source": [
    "print(a[:-4])"
   ]
  },
  {
   "cell_type": "code",
   "execution_count": 27,
   "id": "33a90baa",
   "metadata": {},
   "outputs": [
    {
     "name": "stdout",
     "output_type": "stream",
     "text": [
      "r\n"
     ]
    }
   ],
   "source": [
    "print(a[-4])"
   ]
  },
  {
   "cell_type": "code",
   "execution_count": 28,
   "id": "37f8d286",
   "metadata": {},
   "outputs": [
    {
     "data": {
      "text/plain": [
       "'Hello World!Hello World!Hello World!'"
      ]
     },
     "execution_count": 28,
     "metadata": {},
     "output_type": "execute_result"
    }
   ],
   "source": [
    "a*3"
   ]
  },
  {
   "cell_type": "code",
   "execution_count": 29,
   "id": "523c6e92",
   "metadata": {},
   "outputs": [
    {
     "data": {
      "text/plain": [
       "'Hello World!Hello World!'"
      ]
     },
     "execution_count": 29,
     "metadata": {},
     "output_type": "execute_result"
    }
   ],
   "source": [
    "a + a"
   ]
  },
  {
   "cell_type": "code",
   "execution_count": 30,
   "id": "271bcc34",
   "metadata": {},
   "outputs": [
    {
     "data": {
      "text/plain": [
       "[1, 2, 3]"
      ]
     },
     "execution_count": 30,
     "metadata": {},
     "output_type": "execute_result"
    }
   ],
   "source": [
    "#List\n",
    "[1,2,3]"
   ]
  },
  {
   "cell_type": "code",
   "execution_count": 31,
   "id": "267fc895",
   "metadata": {},
   "outputs": [
    {
     "data": {
      "text/plain": [
       "['Strawberry', 'Cookie Dough', 'Chocolate']"
      ]
     },
     "execution_count": 31,
     "metadata": {},
     "output_type": "execute_result"
    }
   ],
   "source": [
    "['Strawberry', 'Cookie Dough', 'Chocolate']"
   ]
  },
  {
   "cell_type": "code",
   "execution_count": 32,
   "id": "0dcb5703",
   "metadata": {},
   "outputs": [
    {
     "data": {
      "text/plain": [
       "['Vanilla', 3, ['Scoops', 'Spoon'], True]"
      ]
     },
     "execution_count": 32,
     "metadata": {},
     "output_type": "execute_result"
    }
   ],
   "source": [
    "['Vanilla', 3, ['Scoops', 'Spoon'], True]"
   ]
  },
  {
   "cell_type": "code",
   "execution_count": 35,
   "id": "5acd4720",
   "metadata": {},
   "outputs": [
    {
     "data": {
      "text/plain": [
       "['Strawberry', 'Cookie Dough', 'Chocolate', 'Salted Caramel']"
      ]
     },
     "execution_count": 35,
     "metadata": {},
     "output_type": "execute_result"
    }
   ],
   "source": [
    "ice_cream = ['Strawberry', 'Cookie Dough', 'Chocolate']\n",
    "ice_cream.append('Salted Caramel')\n",
    "ice_cream"
   ]
  },
  {
   "cell_type": "code",
   "execution_count": 36,
   "id": "af56a8f1",
   "metadata": {},
   "outputs": [
    {
     "data": {
      "text/plain": [
       "['Butter Pecan', 'Cookie Dough', 'Chocolate', 'Salted Caramel']"
      ]
     },
     "execution_count": 36,
     "metadata": {},
     "output_type": "execute_result"
    }
   ],
   "source": [
    "ice_cream[0] = 'Butter Pecan'\n",
    "ice_cream"
   ]
  },
  {
   "cell_type": "code",
   "execution_count": 37,
   "id": "c0a79226",
   "metadata": {},
   "outputs": [],
   "source": [
    "nest_list = ['Vanilla', 3, ['Scoops', 'Spoon'], True]"
   ]
  },
  {
   "cell_type": "code",
   "execution_count": 41,
   "id": "d6fa2275",
   "metadata": {},
   "outputs": [
    {
     "data": {
      "text/plain": [
       "['Scoops', 'Spoon']"
      ]
     },
     "execution_count": 41,
     "metadata": {},
     "output_type": "execute_result"
    }
   ],
   "source": [
    "nest_list[2]"
   ]
  },
  {
   "cell_type": "code",
   "execution_count": 42,
   "id": "56d9d3d9",
   "metadata": {},
   "outputs": [
    {
     "data": {
      "text/plain": [
       "'Spoon'"
      ]
     },
     "execution_count": 42,
     "metadata": {},
     "output_type": "execute_result"
    }
   ],
   "source": [
    "nest_list[2][1]"
   ]
  },
  {
   "cell_type": "code",
   "execution_count": 44,
   "id": "e96773ec",
   "metadata": {},
   "outputs": [],
   "source": [
    "#Tuple\n",
    "\n",
    "tuple_scoops = (1, 2, 3, 2, 1)"
   ]
  },
  {
   "cell_type": "code",
   "execution_count": 45,
   "id": "4292e60f",
   "metadata": {},
   "outputs": [
    {
     "data": {
      "text/plain": [
       "tuple"
      ]
     },
     "execution_count": 45,
     "metadata": {},
     "output_type": "execute_result"
    }
   ],
   "source": [
    "type(tuple_scoops)"
   ]
  },
  {
   "cell_type": "code",
   "execution_count": 46,
   "id": "4135560d",
   "metadata": {},
   "outputs": [
    {
     "data": {
      "text/plain": [
       "1"
      ]
     },
     "execution_count": 46,
     "metadata": {},
     "output_type": "execute_result"
    }
   ],
   "source": [
    "tuple_scoops[0]"
   ]
  },
  {
   "cell_type": "code",
   "execution_count": 50,
   "id": "93df23f9",
   "metadata": {},
   "outputs": [],
   "source": [
    "#Sets\n",
    "\n",
    "daily_pints = {1,2,3}"
   ]
  },
  {
   "cell_type": "code",
   "execution_count": 51,
   "id": "6dc37947",
   "metadata": {},
   "outputs": [
    {
     "data": {
      "text/plain": [
       "set"
      ]
     },
     "execution_count": 51,
     "metadata": {},
     "output_type": "execute_result"
    }
   ],
   "source": [
    "type(daily_pints)"
   ]
  },
  {
   "cell_type": "code",
   "execution_count": 52,
   "id": "3f840488",
   "metadata": {},
   "outputs": [
    {
     "name": "stdout",
     "output_type": "stream",
     "text": [
      "{1, 2, 3}\n"
     ]
    }
   ],
   "source": [
    "print(daily_pints)"
   ]
  },
  {
   "cell_type": "code",
   "execution_count": 66,
   "id": "2931ec8a",
   "metadata": {},
   "outputs": [
    {
     "name": "stdout",
     "output_type": "stream",
     "text": [
      "{1, 2, 3, 4, 5, 6, 7, 31}\n"
     ]
    }
   ],
   "source": [
    "daily_pints_log = {1,2,31,2,3,4,5,6,7}\n",
    "print(daily_pints_log)"
   ]
  },
  {
   "cell_type": "code",
   "execution_count": 65,
   "id": "54f71533",
   "metadata": {},
   "outputs": [
    {
     "name": "stdout",
     "output_type": "stream",
     "text": [
      "{32, 1, 2, 4, 5, 6, 7}\n"
     ]
    }
   ],
   "source": [
    "second_daily_pints_log = {1,2,4,4,5,6,7,32}\n",
    "print(second_daily_pints_log)"
   ]
  },
  {
   "cell_type": "code",
   "execution_count": 67,
   "id": "af53f78e",
   "metadata": {},
   "outputs": [
    {
     "data": {
      "text/plain": [
       "{1, 2, 3, 4, 5, 6, 7, 31, 32}"
      ]
     },
     "execution_count": 67,
     "metadata": {},
     "output_type": "execute_result"
    }
   ],
   "source": [
    "#Finding unique values between the two sets\n",
    "daily_pints_log | second_daily_pints_log"
   ]
  },
  {
   "cell_type": "code",
   "execution_count": 68,
   "id": "3fd0b148",
   "metadata": {},
   "outputs": [
    {
     "name": "stdout",
     "output_type": "stream",
     "text": [
      "{1, 2, 4, 5, 6, 7}\n"
     ]
    }
   ],
   "source": [
    "#Shows the ones that appear in both sets\n",
    "print(daily_pints_log & second_daily_pints_log)"
   ]
  },
  {
   "cell_type": "code",
   "execution_count": 69,
   "id": "73127d3a",
   "metadata": {},
   "outputs": [
    {
     "name": "stdout",
     "output_type": "stream",
     "text": [
      "{3, 31}\n"
     ]
    }
   ],
   "source": [
    "#Subtracting the ones that are the same. The ones that do not match\n",
    "print(daily_pints_log - second_daily_pints_log)"
   ]
  },
  {
   "cell_type": "code",
   "execution_count": 70,
   "id": "e42c1796",
   "metadata": {},
   "outputs": [
    {
     "name": "stdout",
     "output_type": "stream",
     "text": [
      "{32, 3, 31}\n"
     ]
    }
   ],
   "source": [
    "#Show the ones that are unique to their sets. Values that are in one or the other, but not in both.\n",
    "print(daily_pints_log ^ second_daily_pints_log)"
   ]
  },
  {
   "cell_type": "code",
   "execution_count": 71,
   "id": "96788860",
   "metadata": {},
   "outputs": [],
   "source": [
    "#Dictionaries\n",
    "#Key/Value Pair\n",
    "\n",
    "dict_cream = {'name':'Artur Freires', 'weekly wage': 2, 'favorite game':['diablo2', 'pokemon gold']}\n"
   ]
  },
  {
   "cell_type": "code",
   "execution_count": 72,
   "id": "fe90b310",
   "metadata": {},
   "outputs": [
    {
     "data": {
      "text/plain": [
       "dict"
      ]
     },
     "execution_count": 72,
     "metadata": {},
     "output_type": "execute_result"
    }
   ],
   "source": [
    "type(dict_cream)"
   ]
  },
  {
   "cell_type": "code",
   "execution_count": 73,
   "id": "8f1e7d66",
   "metadata": {},
   "outputs": [
    {
     "data": {
      "text/plain": [
       "dict_values(['Artur Freires', 2, ['diablo2', 'pokemon gold']])"
      ]
     },
     "execution_count": 73,
     "metadata": {},
     "output_type": "execute_result"
    }
   ],
   "source": [
    "dict_cream.values()"
   ]
  },
  {
   "cell_type": "code",
   "execution_count": 74,
   "id": "f1b2870d",
   "metadata": {},
   "outputs": [
    {
     "data": {
      "text/plain": [
       "dict_keys(['name', 'weekly wage', 'favorite game'])"
      ]
     },
     "execution_count": 74,
     "metadata": {},
     "output_type": "execute_result"
    }
   ],
   "source": [
    "dict_cream.keys()"
   ]
  },
  {
   "cell_type": "code",
   "execution_count": 75,
   "id": "d06e49db",
   "metadata": {},
   "outputs": [
    {
     "data": {
      "text/plain": [
       "dict_items([('name', 'Artur Freires'), ('weekly wage', 2), ('favorite game', ['diablo2', 'pokemon gold'])])"
      ]
     },
     "execution_count": 75,
     "metadata": {},
     "output_type": "execute_result"
    }
   ],
   "source": [
    "dict_cream.items()"
   ]
  },
  {
   "cell_type": "code",
   "execution_count": 76,
   "id": "d40d5178",
   "metadata": {},
   "outputs": [
    {
     "data": {
      "text/plain": [
       "'Artur Freires'"
      ]
     },
     "execution_count": 76,
     "metadata": {},
     "output_type": "execute_result"
    }
   ],
   "source": [
    "dict_cream['name']"
   ]
  },
  {
   "cell_type": "code",
   "execution_count": 77,
   "id": "f7b5f7ca",
   "metadata": {},
   "outputs": [],
   "source": [
    "dict_cream['name'] = 'Artur F Freires'"
   ]
  },
  {
   "cell_type": "code",
   "execution_count": 78,
   "id": "ccb45476",
   "metadata": {},
   "outputs": [
    {
     "data": {
      "text/plain": [
       "'Artur F Freires'"
      ]
     },
     "execution_count": 78,
     "metadata": {},
     "output_type": "execute_result"
    }
   ],
   "source": [
    "dict_cream['name']"
   ]
  },
  {
   "cell_type": "code",
   "execution_count": 79,
   "id": "b3b6d10c",
   "metadata": {},
   "outputs": [],
   "source": [
    "dict_cream.update({'name':'Artur Freires', 'weekly wage': 2, 'favorite game':['final fantasy', 'gundam'], 'more favorite game':'total war'})"
   ]
  },
  {
   "cell_type": "code",
   "execution_count": 80,
   "id": "bb6b33a0",
   "metadata": {},
   "outputs": [
    {
     "data": {
      "text/plain": [
       "dict_values(['Artur Freires', 2, ['final fantasy', 'gundam'], 'total war'])"
      ]
     },
     "execution_count": 80,
     "metadata": {},
     "output_type": "execute_result"
    }
   ],
   "source": [
    "dict_cream.values()"
   ]
  },
  {
   "cell_type": "code",
   "execution_count": 81,
   "id": "f47f6192",
   "metadata": {},
   "outputs": [
    {
     "name": "stdout",
     "output_type": "stream",
     "text": [
      "{'name': 'Artur Freires', 'favorite game': ['final fantasy', 'gundam'], 'more favorite game': 'total war'}\n"
     ]
    }
   ],
   "source": [
    "del dict_cream['weekly wage']\n",
    "print(dict_cream)"
   ]
  },
  {
   "cell_type": "code",
   "execution_count": null,
   "id": "b24599e2",
   "metadata": {},
   "outputs": [],
   "source": []
  }
 ],
 "metadata": {
  "kernelspec": {
   "display_name": "Python 3 (ipykernel)",
   "language": "python",
   "name": "python3"
  },
  "language_info": {
   "codemirror_mode": {
    "name": "ipython",
    "version": 3
   },
   "file_extension": ".py",
   "mimetype": "text/x-python",
   "name": "python",
   "nbconvert_exporter": "python",
   "pygments_lexer": "ipython3",
   "version": "3.11.3"
  }
 },
 "nbformat": 4,
 "nbformat_minor": 5
}
