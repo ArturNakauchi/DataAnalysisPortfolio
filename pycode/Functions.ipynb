{
 "cells": [
  {
   "cell_type": "code",
   "execution_count": 1,
   "id": "3f56c1b5",
   "metadata": {},
   "outputs": [],
   "source": [
    "def first_func():\n",
    "    print('We did it')"
   ]
  },
  {
   "cell_type": "code",
   "execution_count": 2,
   "id": "79a2b855",
   "metadata": {},
   "outputs": [
    {
     "name": "stdout",
     "output_type": "stream",
     "text": [
      "We did it\n"
     ]
    }
   ],
   "source": [
    "first_func()"
   ]
  },
  {
   "cell_type": "code",
   "execution_count": 3,
   "id": "88409b64",
   "metadata": {},
   "outputs": [],
   "source": [
    "def number_squared(number):\n",
    "    print(number**2)"
   ]
  },
  {
   "cell_type": "code",
   "execution_count": 4,
   "id": "20b42a75",
   "metadata": {},
   "outputs": [
    {
     "name": "stdout",
     "output_type": "stream",
     "text": [
      "100\n"
     ]
    }
   ],
   "source": [
    "number_squared(10)"
   ]
  },
  {
   "cell_type": "code",
   "execution_count": 5,
   "id": "5c07fbde",
   "metadata": {},
   "outputs": [],
   "source": [
    "def number_squared_custom(number, power):\n",
    "    print(number**power)"
   ]
  },
  {
   "cell_type": "code",
   "execution_count": 7,
   "id": "2d71a722",
   "metadata": {},
   "outputs": [
    {
     "name": "stdout",
     "output_type": "stream",
     "text": [
      "125\n"
     ]
    }
   ],
   "source": [
    "number_squared_custom(5,3)"
   ]
  },
  {
   "cell_type": "code",
   "execution_count": 14,
   "id": "639d151b",
   "metadata": {},
   "outputs": [],
   "source": [
    "#Arbitrary argument functions\n",
    "\n",
    "args_tuple = (5,6,1,2,8)\n",
    "\n",
    "\n",
    "def number_args(*args):\n",
    "    print(args[0]*args[1])"
   ]
  },
  {
   "cell_type": "code",
   "execution_count": 17,
   "id": "b4272cba",
   "metadata": {},
   "outputs": [
    {
     "name": "stdout",
     "output_type": "stream",
     "text": [
      "30\n"
     ]
    }
   ],
   "source": [
    "number_args(*args_tuple)"
   ]
  },
  {
   "cell_type": "code",
   "execution_count": 20,
   "id": "c21075bd",
   "metadata": {},
   "outputs": [],
   "source": [
    "def number_squared_cust(number, power):\n",
    "    print(number**power)"
   ]
  },
  {
   "cell_type": "code",
   "execution_count": 21,
   "id": "8b0c06c8",
   "metadata": {},
   "outputs": [
    {
     "name": "stdout",
     "output_type": "stream",
     "text": [
      "243\n"
     ]
    }
   ],
   "source": [
    "number_squared_cust(power = 5, number = 3)"
   ]
  },
  {
   "cell_type": "code",
   "execution_count": 30,
   "id": "05b662ce",
   "metadata": {},
   "outputs": [],
   "source": [
    "#Keyword Arbitrary argument functions\n",
    "def number_kwarg(**number):\n",
    "    print('My number is: '+ number['integer'] + ' My other number: ' + number['integer2'])"
   ]
  },
  {
   "cell_type": "code",
   "execution_count": 31,
   "id": "a43e3b68",
   "metadata": {},
   "outputs": [
    {
     "name": "stdout",
     "output_type": "stream",
     "text": [
      "My number is: 2309 My other number: 3214\n"
     ]
    }
   ],
   "source": [
    "number_kwarg(integer = '2309', integer2 = '3214')"
   ]
  },
  {
   "cell_type": "code",
   "execution_count": null,
   "id": "ecbc14e8",
   "metadata": {},
   "outputs": [],
   "source": []
  }
 ],
 "metadata": {
  "kernelspec": {
   "display_name": "Python 3 (ipykernel)",
   "language": "python",
   "name": "python3"
  },
  "language_info": {
   "codemirror_mode": {
    "name": "ipython",
    "version": 3
   },
   "file_extension": ".py",
   "mimetype": "text/x-python",
   "name": "python",
   "nbconvert_exporter": "python",
   "pygments_lexer": "ipython3",
   "version": "3.11.3"
  }
 },
 "nbformat": 4,
 "nbformat_minor": 5
}
