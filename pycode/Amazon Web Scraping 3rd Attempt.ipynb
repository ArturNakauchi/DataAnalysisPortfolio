{
 "cells": [
  {
   "cell_type": "code",
   "execution_count": 49,
   "id": "8f42750c",
   "metadata": {},
   "outputs": [],
   "source": [
    "from selenium import webdriver\n",
    "import time\n",
    "from selenium.webdriver.common import keys\n",
    "from selenium.webdriver.common.by import By\n",
    "from bs4 import BeautifulSoup\n",
    "import datetime\n",
    "import csv\n",
    "import smtplib"
   ]
  },
  {
   "cell_type": "code",
   "execution_count": 48,
   "id": "ff4e4c9e",
   "metadata": {},
   "outputs": [],
   "source": [
    "\n",
    "\n",
    "def check_price():\n",
    "    #selecting the driver\n",
    "    web=webdriver.Chrome()\n",
    "    web.get('https://www.amazon.com/ap/signin?openid.pape.max_auth_age=0&openid.return_to=https%3A%2F%2Fwww.amazon.com%2Fref%3Dnav_ya_signin&openid.identity=http%3A%2F%2Fspecs.openid.net%2Fauth%2F2.0%2Fidentifier_select&openid.assoc_handle=usflex&openid.mode=checkid_setup&openid.claimed_id=http%3A%2F%2Fspecs.openid.net%2Fauth%2F2.0%2Fidentifier_select&openid.ns=http%3A%2F%2Fspecs.openid.net%2Fauth%2F2.0')\n",
    "    time.sleep(1)\n",
    "    \n",
    "    #going through the flow on the web driver\n",
    "    # 1- login = Fill email on the login page\n",
    "    # 2- submit = Click the buttom element to move forward\n",
    "    # 3- password = Fill the password\n",
    "    # 4- submit_2 = Click the buttom element to move forward\n",
    "    # 5- searchbox = Fil the item to be searched\n",
    "    # 6- find =  click the buttom element to search for the item\n",
    "    login=web.find_element(By.XPATH, '/html/body/div[1]/div[1]/div[2]/div/div[2]/div[2]/div[1]/form/div/div/div/div[1]/input[1]')\n",
    "    login.send_keys('savioria@yahoo.com.br')\n",
    "    \n",
    "    submit=web.find_element(By.XPATH, '/html/body/div[1]/div[1]/div[2]/div/div[2]/div[2]/div[1]/form/div/div/div/div[2]/span/span/input')\n",
    "    submit.click()\n",
    "\n",
    "    password=web.find_element(By.XPATH,'/html/body/div[1]/div[1]/div[2]/div/div[2]/div/div[2]/div/form/div/div[1]/input')\n",
    "    password.send_keys('Canadablade123')\n",
    "\n",
    "    submit_2=web.find_element(By.XPATH, '/html/body/div[1]/div[1]/div[2]/div/div[2]/div/div[2]/div/form/div/div[2]/span/span/input')\n",
    "    submit_2.click()\n",
    "\n",
    "    searchbox=web.find_element(By.ID, 'twotabsearchtextbox')\n",
    "    searchbox.send_keys('playstation 4')\n",
    "\n",
    "    time.sleep(1)\n",
    "    \n",
    "    \n",
    "    find=web.find_element(By.XPATH,'/html/body/div[1]/header/div/div[1]/div[2]/div/form/div[3]/div/span/input')\n",
    "    find.click()\n",
    "\n",
    "    html = web.page_source\n",
    "\n",
    "    soup = BeautifulSoup(html, 'html.parser')\n",
    "    soup2 = BeautifulSoup(soup.prettify(), 'html.parser')\n",
    "    \n",
    "    #finding the values that are going to be inserted into a dataframe/csv\n",
    "    #assign the title and price of the item to variables\n",
    "    title = soup2.find('span', {\"class\": \"a-size-medium a-color-base a-text-normal\"}).get_text()\n",
    "    price = soup2.find('span', {'a-offscreen'}).get_text()\n",
    "\n",
    "    #cleaning the data\n",
    "    title = title.strip()\n",
    "    price = price.strip()[1:]\n",
    "    \n",
    "    #create a timestamp\n",
    "    today = datetime.date.today()\n",
    "\n",
    "    #creating the table structure\n",
    "    header = ['Title', 'Price','Date']\n",
    "    data = [title,price,today]\n",
    "\n",
    "    #inserting the header and data into csv\n",
    "    #default folder for csv is the users folder\n",
    "    with open('AmazonWebScraperDS.csv', 'a+', newline='', encoding='UTF8') as f:\n",
    "        writer = csv.writer(f)\n",
    "        writer.writerow(header)\n",
    "        writer.writerow(data)\n"
   ]
  },
  {
   "cell_type": "code",
   "execution_count": null,
   "id": "b1adb006",
   "metadata": {},
   "outputs": [],
   "source": [
    "        \n",
    "#for future reference, send an email      \n",
    "def send_mail():\n",
    "    server = smtplib.SMTP_SSL('smtp.gmail.com',465)\n",
    "    server.ehlo()\n",
    "    #server.starttls()\n",
    "    server.ehlo()\n",
    "    server.login('savioria247@gmail.com','Canadablade123')\n",
    "    \n",
    "    subject = \"Test\"\n",
    "    body = \" test\"\n",
    "   \n",
    "    msg = f\"Subject: {subject}\\n\\n{body}\"\n",
    "    \n",
    "    server.sendmail(\n",
    "        'savioria247@gmail.com',\n",
    "        msg\n",
    "     \n",
    "    )"
   ]
  },
  {
   "cell_type": "code",
   "execution_count": null,
   "id": "04cb625c",
   "metadata": {},
   "outputs": [],
   "source": [
    "#Running in a rudimentary timer. 86400 is a day in seconds\n",
    "white(True):\n",
    "    check_price()\n",
    "    time.sleep(86400)"
   ]
  },
  {
   "cell_type": "code",
   "execution_count": 46,
   "id": "df1948ea",
   "metadata": {},
   "outputs": [
    {
     "data": {
      "text/html": [
       "<div>\n",
       "<style scoped>\n",
       "    .dataframe tbody tr th:only-of-type {\n",
       "        vertical-align: middle;\n",
       "    }\n",
       "\n",
       "    .dataframe tbody tr th {\n",
       "        vertical-align: top;\n",
       "    }\n",
       "\n",
       "    .dataframe thead th {\n",
       "        text-align: right;\n",
       "    }\n",
       "</style>\n",
       "<table border=\"1\" class=\"dataframe\">\n",
       "  <thead>\n",
       "    <tr style=\"text-align: right;\">\n",
       "      <th></th>\n",
       "      <th>Title</th>\n",
       "      <th>Price</th>\n",
       "    </tr>\n",
       "  </thead>\n",
       "  <tbody>\n",
       "    <tr>\n",
       "      <th>0</th>\n",
       "      <td>PlayStation 4 500GB Console (Renewed)</td>\n",
       "      <td>250.0</td>\n",
       "    </tr>\n",
       "  </tbody>\n",
       "</table>\n",
       "</div>"
      ],
      "text/plain": [
       "                                   Title  Price\n",
       "0  PlayStation 4 500GB Console (Renewed)  250.0"
      ]
     },
     "execution_count": 46,
     "metadata": {},
     "output_type": "execute_result"
    }
   ],
   "source": [
    "#validating as a data frame that can be read with pandas\n",
    "import pandas as pd\n",
    "\n",
    "df = pd.read_csv(r'C:\\Users\\Artur\\AmazonWebScraperDS.csv')\n",
    "\n",
    "df"
   ]
  },
  {
   "cell_type": "code",
   "execution_count": 32,
   "id": "6961dfdd",
   "metadata": {},
   "outputs": [
    {
     "name": "stdout",
     "output_type": "stream",
     "text": [
      "\n",
      "                      PlayStation 4 500GB Console (Renewed)\n",
      "                     \n",
      "\n",
      "                          $250.00\n",
      "                         \n"
     ]
    }
   ],
   "source": [
    "# #finding the values that are going to be inserted into a dataframe\n",
    "\n",
    "# title = soup2.find('span', {\"class\": \"a-size-medium a-color-base a-text-normal\"}).get_text()\n",
    "# price = soup2.find('span', {'a-offscreen'}).get_text()"
   ]
  },
  {
   "cell_type": "code",
   "execution_count": 33,
   "id": "d2610d54",
   "metadata": {},
   "outputs": [],
   "source": [
    "# #cleaning the data\n",
    "\n",
    "# title = title.strip()\n",
    "# price = price.strip()[1:]"
   ]
  },
  {
   "cell_type": "code",
   "execution_count": 38,
   "id": "7513c372",
   "metadata": {},
   "outputs": [
    {
     "name": "stdout",
     "output_type": "stream",
     "text": [
      "PlayStation 4 500GB Console (Renewed)\n",
      "250.00\n"
     ]
    }
   ],
   "source": [
    "# print(title)\n",
    "# print(price)\n",
    "\n",
    "# #check for the data type before importing to a csv\n",
    "# type(price)"
   ]
  },
  {
   "cell_type": "code",
   "execution_count": null,
   "id": "73c84863",
   "metadata": {},
   "outputs": [],
   "source": [
    "\n",
    "\n",
    "# #create a timestamp\n",
    "# today = datetime.date.today()\n",
    "# print(today)"
   ]
  },
  {
   "cell_type": "code",
   "execution_count": 41,
   "id": "c1af0342",
   "metadata": {},
   "outputs": [],
   "source": [
    "\n",
    "# #creating the table structure\n",
    "# header = ['Title', 'Price','Date']\n",
    "# data = [title,price,today]\n",
    "\n",
    "# #inserting the header and data into csv\n",
    "# #default folder for csv is the users folder\n",
    "# with open('AmazonWebScraperDS.csv', 'w', newline='', encoding='UTF8') as f:\n",
    "#     writer = csv.writer(f)\n",
    "#     writer.writerow(header)\n",
    "#     writer.writerow(data)\n"
   ]
  },
  {
   "cell_type": "code",
   "execution_count": null,
   "id": "2a9a2d0e",
   "metadata": {},
   "outputs": [],
   "source": [
    "# #To append data to an existing csv. Use the 'a+' variable\n",
    "\n",
    "# with open('AmazonWebScraperDS.csv', 'a+', newline='', encoding='UTF8') as f:\n",
    "#     writer = csv.writer(f)\n",
    "#     writer.writerow(data)"
   ]
  },
  {
   "cell_type": "code",
   "execution_count": null,
   "id": "6f2d6ed9",
   "metadata": {},
   "outputs": [],
   "source": [
    "\n",
    "    "
   ]
  }
 ],
 "metadata": {
  "kernelspec": {
   "display_name": "Python 3 (ipykernel)",
   "language": "python",
   "name": "python3"
  },
  "language_info": {
   "codemirror_mode": {
    "name": "ipython",
    "version": 3
   },
   "file_extension": ".py",
   "mimetype": "text/x-python",
   "name": "python",
   "nbconvert_exporter": "python",
   "pygments_lexer": "ipython3",
   "version": "3.11.3"
  }
 },
 "nbformat": 4,
 "nbformat_minor": 5
}
