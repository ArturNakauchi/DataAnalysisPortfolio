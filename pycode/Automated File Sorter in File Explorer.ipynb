{
 "cells": [
  {
   "cell_type": "markdown",
   "id": "378a9bdc",
   "metadata": {},
   "source": [
    "## Automated File Sorter"
   ]
  },
  {
   "cell_type": "code",
   "execution_count": 1,
   "id": "635e0272",
   "metadata": {},
   "outputs": [],
   "source": [
    "import os, shutil"
   ]
  },
  {
   "cell_type": "code",
   "execution_count": 6,
   "id": "9edb9f26",
   "metadata": {},
   "outputs": [],
   "source": [
    "path = r\"C:/Users/Artur/Desktop/Python_Projects/TestFolder/\""
   ]
  },
  {
   "cell_type": "code",
   "execution_count": 21,
   "id": "8f1ca17b",
   "metadata": {},
   "outputs": [
    {
     "data": {
      "text/plain": [
       "['csv files', 'gibberish.txt', 'image files', 'text files']"
      ]
     },
     "execution_count": 21,
     "metadata": {},
     "output_type": "execute_result"
    }
   ],
   "source": [
    "#shows the files in the path\n",
    "\n",
    "os.listdir(path)"
   ]
  },
  {
   "cell_type": "code",
   "execution_count": 22,
   "id": "77773ff4",
   "metadata": {},
   "outputs": [],
   "source": [
    "#save the path in a variable\n",
    "file_name = os.listdir(path)"
   ]
  },
  {
   "cell_type": "code",
   "execution_count": 23,
   "id": "f57227b7",
   "metadata": {},
   "outputs": [],
   "source": [
    "\n",
    "#create the folders\n",
    "folder_names = ['csv files', 'image files', 'text files']\n",
    "\n",
    "#go through the array of range. Create 3 folders based on the string array\n",
    "for loop in range(0,3):\n",
    "    if not os.path.exists(path + folder_names[loop]):\n",
    "        print(path + folder_names[loop])\n",
    "        os.makedirs(path + folder_names[loop])\n",
    "        \n",
    "#checks if the file type is in the folder\n",
    "#\"path + \"csv files/\" + file\" and similars are the current folders being checked in the for loop\n",
    "#shutil moves the file\n",
    "\n",
    "for file in file_name:\n",
    "    if \".csv\" in file and not os.path.exists(path + \"csv files/\" + file):\n",
    "        shutil.move(path + file, path + \"csv files/\" + file)\n",
    "    elif \".jpg\" in file and not os.path.exists(path + \"image files/\" + file):\n",
    "        shutil.move(path + file, path + \"image files/\" + file)\n",
    "    elif \".txt\" in file and not os.path.exists(path + \"text files/\" + file):\n",
    "        shutil.move(path + file, path + \"text files/\" + file)"
   ]
  },
  {
   "cell_type": "code",
   "execution_count": 15,
   "id": "f6b57204",
   "metadata": {},
   "outputs": [],
   "source": []
  },
  {
   "cell_type": "code",
   "execution_count": null,
   "id": "074ae81d",
   "metadata": {},
   "outputs": [],
   "source": []
  }
 ],
 "metadata": {
  "kernelspec": {
   "display_name": "Python 3 (ipykernel)",
   "language": "python",
   "name": "python3"
  },
  "language_info": {
   "codemirror_mode": {
    "name": "ipython",
    "version": 3
   },
   "file_extension": ".py",
   "mimetype": "text/x-python",
   "name": "python",
   "nbconvert_exporter": "python",
   "pygments_lexer": "ipython3",
   "version": "3.11.3"
  }
 },
 "nbformat": 4,
 "nbformat_minor": 5
}
